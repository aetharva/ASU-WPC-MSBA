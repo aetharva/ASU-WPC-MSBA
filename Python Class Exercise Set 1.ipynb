{
 "cells": [
  {
   "cell_type": "code",
   "execution_count": 2,
   "id": "4b562d63",
   "metadata": {},
   "outputs": [
    {
     "name": "stdout",
     "output_type": "stream",
     "text": [
      "Euros = 200\n",
      "Exchange Rate =  1.09\n",
      "Dollars =  218.0\n"
     ]
    }
   ],
   "source": [
    "euros = 200\n",
    "exc = 1.09\n",
    "usd = round (euros * exc, 2)\n",
    "print (\"Euros =\", euros)\n",
    "print (\"Exchange Rate = \", exc)\n",
    "print (\"Dollars = \", usd)"
   ]
  },
  {
   "cell_type": "code",
   "execution_count": 20,
   "id": "4045d04f",
   "metadata": {},
   "outputs": [
    {
     "name": "stdout",
     "output_type": "stream",
     "text": [
      "----------------------------------------------------------------------------------------------------\n"
     ]
    }
   ],
   "source": [
    "print(\"-\"*100)"
   ]
  },
  {
   "cell_type": "code",
   "execution_count": 5,
   "id": "b45d8d7b",
   "metadata": {},
   "outputs": [
    {
     "name": "stdout",
     "output_type": "stream",
     "text": [
      "Billed Amount = 200\n",
      "Tip =  0.1\n",
      "Total Due =  220.0\n"
     ]
    }
   ],
   "source": [
    "bill = 200\n",
    "tip = 0.10\n",
    "total = round(billed* (1 + tip), 2)\n",
    "print (\"Billed Amount =\", bill)\n",
    "print (\"Tip = \", tip)\n",
    "print (\"Total Due = \", total)"
   ]
  },
  {
   "cell_type": "code",
   "execution_count": 21,
   "id": "bbb09fce",
   "metadata": {},
   "outputs": [
    {
     "name": "stdout",
     "output_type": "stream",
     "text": [
      "----------------------------------------------------------------------------------------------------\n"
     ]
    }
   ],
   "source": [
    "print(\"-\"*100)"
   ]
  },
  {
   "cell_type": "code",
   "execution_count": 6,
   "id": "64c07553",
   "metadata": {},
   "outputs": [],
   "source": [
    "import math"
   ]
  },
  {
   "cell_type": "code",
   "execution_count": 8,
   "id": "20d7ed14",
   "metadata": {},
   "outputs": [
    {
     "name": "stdout",
     "output_type": "stream",
     "text": [
      "Radius = 10\n",
      "Circumference =  62.83\n",
      "Area =  314\n"
     ]
    }
   ],
   "source": [
    "r = 10\n",
    "c = round(2*math.pi*r, 2)\n",
    "a = round(math.pi*pow(r, 2))\n",
    "\n",
    "print (\"Radius =\", r)\n",
    "print (\"Circumference = \", c)\n",
    "print (\"Area = \", a)"
   ]
  },
  {
   "cell_type": "code",
   "execution_count": 22,
   "id": "5c3838d3",
   "metadata": {},
   "outputs": [
    {
     "name": "stdout",
     "output_type": "stream",
     "text": [
      "----------------------------------------------------------------------------------------------------\n"
     ]
    }
   ],
   "source": [
    "print(\"-\"*100)"
   ]
  },
  {
   "cell_type": "code",
   "execution_count": 11,
   "id": "f31488d9",
   "metadata": {},
   "outputs": [
    {
     "name": "stdout",
     "output_type": "stream",
     "text": [
      "Number = 21\n",
      "Number%2 = 1\n",
      "Is number Even? False\n"
     ]
    }
   ],
   "source": [
    "num = 21\n",
    "rem = num%2\n",
    "isEven = rem == 0\n",
    "\n",
    "print (\"Number =\", num)\n",
    "print (\"Number%2 =\", rem)\n",
    "print (\"Is number Even?\", isEven)"
   ]
  },
  {
   "cell_type": "code",
   "execution_count": 18,
   "id": "6ba3aa0e",
   "metadata": {},
   "outputs": [
    {
     "name": "stdout",
     "output_type": "stream",
     "text": [
      "Number is Even\n"
     ]
    }
   ],
   "source": [
    "num = -2\n",
    "if (num%2 == 1):\n",
    "    print(\"Number Odd\")\n",
    "else:\n",
    "    print (\"Number is Even\")"
   ]
  },
  {
   "cell_type": "code",
   "execution_count": 23,
   "id": "ee9b96cf",
   "metadata": {},
   "outputs": [
    {
     "name": "stdout",
     "output_type": "stream",
     "text": [
      "----------------------------------------------------------------------------------------------------\n"
     ]
    }
   ],
   "source": [
    "print(\"-\"*100)"
   ]
  },
  {
   "cell_type": "code",
   "execution_count": 24,
   "id": "d9928ffb",
   "metadata": {},
   "outputs": [
    {
     "name": "stdout",
     "output_type": "stream",
     "text": [
      "Dollar Amount = 259\n",
      "Number of 20s =  12\n",
      "Number of 10s =  1\n",
      "Number of 5s =  1\n",
      "Number of 1s =  4\n"
     ]
    }
   ],
   "source": [
    "usd = 259\n",
    "usdLeft = usd\n",
    "\n",
    "num20s = math.floor(usdLeft/20)\n",
    "usdLeft = usdLeft%20\n",
    "\n",
    "num10s = math.floor(usdLeft/10)\n",
    "usdLeft = usdLeft%10\n",
    "\n",
    "num5s = math.floor(usdLeft/5)\n",
    "usdLeft = usdLeft%5\n",
    "\n",
    "num1s = math.floor(usdLeft/1)\n",
    "\n",
    "print (\"Dollar Amount =\", usd)\n",
    "print (\"Number of 20s = \", num20s)\n",
    "print (\"Number of 10s = \", num10s)\n",
    "print (\"Number of 5s = \", num5s)\n",
    "print (\"Number of 1s = \", num1s)"
   ]
  },
  {
   "cell_type": "code",
   "execution_count": 25,
   "id": "a8318e27",
   "metadata": {},
   "outputs": [
    {
     "name": "stdout",
     "output_type": "stream",
     "text": [
      "----------------------------------------------------------------------------------------------------\n"
     ]
    }
   ],
   "source": [
    "print(\"-\"*100)"
   ]
  }
 ],
 "metadata": {
  "kernelspec": {
   "display_name": "Python 3 (ipykernel)",
   "language": "python",
   "name": "python3"
  },
  "language_info": {
   "codemirror_mode": {
    "name": "ipython",
    "version": 3
   },
   "file_extension": ".py",
   "mimetype": "text/x-python",
   "name": "python",
   "nbconvert_exporter": "python",
   "pygments_lexer": "ipython3",
   "version": "3.8.9"
  }
 },
 "nbformat": 4,
 "nbformat_minor": 5
}
