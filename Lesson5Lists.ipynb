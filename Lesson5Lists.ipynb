{
 "cells": [
  {
   "cell_type": "code",
   "execution_count": 49,
   "id": "6bf3b6de",
   "metadata": {},
   "outputs": [],
   "source": [
    "# here are examples of some lists\n",
    "listPeople = [\"tom\", \"harry\", \"jane\", \"liz\"]\n",
    "listFlowers = [\"rose\", \"lily\", \"tulip\", \"lantana\"]\n",
    "listPets = ['cat', 'turtle', 'goat', 'dog']\n",
    "listNumFriends = [21, 33, 10, 51]"
   ]
  },
  {
   "cell_type": "code",
   "execution_count": 29,
   "id": "ae95496e",
   "metadata": {},
   "outputs": [],
   "source": [
    "# lists of heterogenous items are not incorrect, just atypical\n",
    "listAtypical = [1, 'cat', 0x45, 567]"
   ]
  },
  {
   "cell_type": "code",
   "execution_count": 30,
   "id": "bc835e66",
   "metadata": {},
   "outputs": [
    {
     "name": "stdout",
     "output_type": "stream",
     "text": [
      "listPeople:  ['tom', 'harry', 'jane', 'liz']\n",
      "listFlowers:  ['rose', 'lily', 'tulip', 'lantana']\n",
      "listPets:  ['cat', 'turtle', 'goat', 'dog']\n",
      "listNumFriends:  [21, 33, 10, 51]\n",
      "listAtypical:  [1, 'cat', 69, 567]\n"
     ]
    }
   ],
   "source": [
    "print (\"listPeople: \", listPeople)\n",
    "print (\"listFlowers: \", listFlowers)\n",
    "print (\"listPets: \", listPets)\n",
    "print (\"listNumFriends: \", listNumFriends)\n",
    "print (\"listAtypical: \", listAtypical)"
   ]
  },
  {
   "cell_type": "code",
   "execution_count": 31,
   "id": "e535fa79",
   "metadata": {},
   "outputs": [
    {
     "name": "stdout",
     "output_type": "stream",
     "text": [
      "----------------------------------------------------------------------------------------------------\n"
     ]
    }
   ],
   "source": [
    "print(\"-\"*100)"
   ]
  },
  {
   "cell_type": "code",
   "execution_count": 50,
   "id": "ccca0e43",
   "metadata": {},
   "outputs": [
    {
     "name": "stdout",
     "output_type": "stream",
     "text": [
      "listConcat ->  ['tom', 'harry', 'jane', 'liz', 'cat', 'turtle', 'goat', 'dog']\n"
     ]
    }
   ],
   "source": [
    "# concatenate lists\n",
    "listConcat = listPeople + listPets\n",
    "print (\"listConcat -> \", listConcat)"
   ]
  },
  {
   "cell_type": "code",
   "execution_count": 51,
   "id": "1441d26d",
   "metadata": {},
   "outputs": [
    {
     "name": "stdout",
     "output_type": "stream",
     "text": [
      "len(listPeople) ->  4\n"
     ]
    }
   ],
   "source": [
    "# length of list\n",
    "print (\"len(listPeople) -> \", len(listPeople))"
   ]
  },
  {
   "cell_type": "code",
   "execution_count": 52,
   "id": "bca19607",
   "metadata": {},
   "outputs": [
    {
     "name": "stdout",
     "output_type": "stream",
     "text": [
      "listPeople[2] ->  jane\n",
      "listPeople[-3] ->  harry\n"
     ]
    }
   ],
   "source": [
    "# refer to item in list with index\n",
    "print (\"listPeople[2] -> \", listPeople[2])\n",
    "print (\"listPeople[-3] -> \", listPeople[-3])"
   ]
  },
  {
   "cell_type": "code",
   "execution_count": 53,
   "id": "edbcf275",
   "metadata": {},
   "outputs": [
    {
     "name": "stdout",
     "output_type": "stream",
     "text": [
      "listPeople[2:] ->  ['jane', 'liz']\n"
     ]
    }
   ],
   "source": [
    "# slice list with [startIndx:endIndx]\n",
    "print (\"listPeople[2:] -> \", listPeople[2:])"
   ]
  },
  {
   "cell_type": "code",
   "execution_count": 37,
   "id": "1e7b0e6e",
   "metadata": {},
   "outputs": [
    {
     "name": "stdout",
     "output_type": "stream",
     "text": [
      "----------------------------------------------------------------------------------------------------\n"
     ]
    }
   ],
   "source": [
    "print(\"-\"*100)"
   ]
  },
  {
   "cell_type": "code",
   "execution_count": 54,
   "id": "242e4a56",
   "metadata": {},
   "outputs": [
    {
     "name": "stdout",
     "output_type": "stream",
     "text": [
      "['trex', 'turtle', 'goat', 'dog']\n"
     ]
    }
   ],
   "source": [
    "# assign to an index\n",
    "listPets[0] = 'trex'\n",
    "print (listPets)"
   ]
  },
  {
   "cell_type": "code",
   "execution_count": 55,
   "id": "6be23da0",
   "metadata": {},
   "outputs": [
    {
     "name": "stdout",
     "output_type": "stream",
     "text": [
      "['python', 'elephant', 'goat', 'dog']\n"
     ]
    }
   ],
   "source": [
    "# assign to a slice\n",
    "listPets[0:2] = ['python', 'elephant']\n",
    "print (listPets)"
   ]
  },
  {
   "cell_type": "code",
   "execution_count": 56,
   "id": "e70f4f80",
   "metadata": {},
   "outputs": [
    {
     "name": "stdout",
     "output_type": "stream",
     "text": [
      "['python', 'elephant']\n"
     ]
    }
   ],
   "source": [
    "# delete a slice\n",
    "listPets[2:4] = []\n",
    "print (listPets)"
   ]
  },
  {
   "cell_type": "code",
   "execution_count": 57,
   "id": "cc95d4c5",
   "metadata": {},
   "outputs": [
    {
     "name": "stdout",
     "output_type": "stream",
     "text": [
      "['python', 'elephant', 'fox']\n"
     ]
    }
   ],
   "source": [
    "# append new items to a list\n",
    "listPets.append('fox')\n",
    "print (listPets)"
   ]
  },
  {
   "cell_type": "code",
   "execution_count": 58,
   "id": "9372f7eb",
   "metadata": {},
   "outputs": [
    {
     "name": "stdout",
     "output_type": "stream",
     "text": [
      "[]\n"
     ]
    }
   ],
   "source": [
    "# clear a list by assigning to an empty list\n",
    "listPets[:] = []\n",
    "print (listPets)"
   ]
  },
  {
   "cell_type": "code",
   "execution_count": 59,
   "id": "504fc08e",
   "metadata": {},
   "outputs": [
    {
     "name": "stdout",
     "output_type": "stream",
     "text": [
      "----------------------------------------------------------------------------------------------------\n"
     ]
    }
   ],
   "source": [
    "print(\"-\"*100)"
   ]
  },
  {
   "cell_type": "code",
   "execution_count": 60,
   "id": "e26813cd",
   "metadata": {},
   "outputs": [
    {
     "name": "stdout",
     "output_type": "stream",
     "text": [
      "listPeople:  ['tom', 'harry', 'jane', 'liz']\n",
      "sublistPeople: ['tom', 'harry', 'jane']\n"
     ]
    }
   ],
   "source": [
    "# we can create lists from other lists\n",
    "# we can assign lists to other lists\n",
    "sublistPeople = listPeople[0:3]\n",
    "print(\"listPeople: \", listPeople)\n",
    "print(\"sublistPeople:\", sublistPeople)"
   ]
  },
  {
   "cell_type": "code",
   "execution_count": 61,
   "id": "4afd1163",
   "metadata": {},
   "outputs": [
    {
     "name": "stdout",
     "output_type": "stream",
     "text": [
      "listPeople:  ['tom', 'harry', 'jane', 'liz']\n",
      "listFlowers:  ['rose', 'lily', 'tulip', 'lantana']\n",
      "listNumFriends:  [21, 33, 10, 51]\n",
      "listCompiled:  ['TOM', 'rose', 31]\n"
     ]
    }
   ],
   "source": [
    "# we can create lists from other list items\n",
    "listCompiled = [(listPeople[0]).upper(), listFlowers[0], listNumFriends[0]+10]\n",
    "print (\"listPeople: \", listPeople)\n",
    "print (\"listFlowers: \", listFlowers)\n",
    "print (\"listNumFriends: \", listNumFriends)\n",
    "print (\"listCompiled: \", listCompiled)"
   ]
  },
  {
   "cell_type": "code",
   "execution_count": 62,
   "id": "4b73ebd8",
   "metadata": {},
   "outputs": [
    {
     "name": "stdout",
     "output_type": "stream",
     "text": [
      "----------------------------------------------------------------------------------------------------\n"
     ]
    }
   ],
   "source": [
    "print(\"-\"*100)"
   ]
  },
  {
   "cell_type": "code",
   "execution_count": 63,
   "id": "57735dd8",
   "metadata": {
    "scrolled": true
   },
   "outputs": [
    {
     "name": "stdout",
     "output_type": "stream",
     "text": [
      "listPeople:  ['tom', 'harry', 'jane', 'liz']\n",
      "listFlowers:  ['rose', 'lily', 'tulip', 'lantana']\n",
      "listNested:  [['tom', 'harry', 'jane', 'liz'], ['rose', 'lily', 'tulip', 'lantana']]\n"
     ]
    }
   ],
   "source": [
    "# we can also nest lists\n",
    "listNested = [listPeople, listFlowers]\n",
    "print (\"listPeople: \", listPeople)\n",
    "print (\"listFlowers: \", listFlowers)\n",
    "print (\"listNested: \", listNested)"
   ]
  },
  {
   "cell_type": "code",
   "execution_count": 64,
   "id": "25ac3777",
   "metadata": {},
   "outputs": [
    {
     "name": "stdout",
     "output_type": "stream",
     "text": [
      "listNested[0]:  ['tom', 'harry', 'jane', 'liz']\n",
      "listNested[1]:  ['rose', 'lily', 'tulip', 'lantana']\n",
      "listNested[0][1]: harry\n",
      "listNested[1][2]: tulip\n"
     ]
    }
   ],
   "source": [
    "# nested list at index 0 - so essentially listPeople\n",
    "print (\"listNested[0]: \", listNested[0])\n",
    "# nested list at index 1 - so essentially listFlowers\n",
    "print (\"listNested[1]: \", listNested[1])\n",
    "# pick item at index 1 of nested list at index 0\n",
    "print (\"listNested[0][1]:\", listNested[0][1])\n",
    "# pick item at index 2 of nested list at index 1\n",
    "print (\"listNested[1][2]:\", listNested[1][2])"
   ]
  },
  {
   "cell_type": "code",
   "execution_count": 65,
   "id": "8c333e0f",
   "metadata": {
    "scrolled": true
   },
   "outputs": [
    {
     "name": "stdout",
     "output_type": "stream",
     "text": [
      "----------------------------------------------------------------------------------------------------\n"
     ]
    }
   ],
   "source": [
    "print(\"-\"*100)"
   ]
  },
  {
   "cell_type": "code",
   "execution_count": 105,
   "id": "d74e4224",
   "metadata": {},
   "outputs": [
    {
     "name": "stdout",
     "output_type": "stream",
     "text": [
      "lst1:  [100, 200, 300]\n",
      "lst2:  [5, 15, 25]\n",
      "lst3:  [10, 50, 50, 20, 0, 10, 50]\n"
     ]
    }
   ],
   "source": [
    "lst1 = [100, 200, 300]\n",
    "lst2 = [5, 15, 25]\n",
    "lst3 = [10, 50, 50, 20, 0, 10, 50]\n",
    "print (\"lst1: \", lst1)\n",
    "print (\"lst2: \", lst2)\n",
    "print (\"lst3: \", lst3)"
   ]
  },
  {
   "cell_type": "code",
   "execution_count": 106,
   "id": "f397a7fd",
   "metadata": {},
   "outputs": [
    {
     "name": "stdout",
     "output_type": "stream",
     "text": [
      "lst1:  [100, 200, 300, -400]\n"
     ]
    }
   ],
   "source": [
    "# Add an item to the end of the list. Equivalent to lst1[len(lst1):] = [-6000]\n",
    "lst1.append(-400)\n",
    "print (\"lst1: \", lst1)"
   ]
  },
  {
   "cell_type": "code",
   "execution_count": 107,
   "id": "3173ee94",
   "metadata": {},
   "outputs": [
    {
     "name": "stdout",
     "output_type": "stream",
     "text": [
      "lst2:  [5, 15, 25, 100, 200, 300, -400]\n"
     ]
    }
   ],
   "source": [
    "# Extend the lst2 by appending all the items in lst1. Equivalent to lst2[len(lst2):] = lst1\n",
    "lst2.extend(lst1)\n",
    "print (\"lst2: \", lst2)"
   ]
  },
  {
   "cell_type": "code",
   "execution_count": 108,
   "id": "7ccb6c15",
   "metadata": {},
   "outputs": [
    {
     "name": "stdout",
     "output_type": "stream",
     "text": [
      "lst2:  [5, 15, 25, -400, 100, 200, 300, -400]\n"
     ]
    }
   ],
   "source": [
    "# Insert an item at index [3]\n",
    "lst2.insert (3, -400)\n",
    "print (\"lst2: \", lst2)"
   ]
  },
  {
   "cell_type": "code",
   "execution_count": 109,
   "id": "f9d61f2f",
   "metadata": {},
   "outputs": [
    {
     "name": "stdout",
     "output_type": "stream",
     "text": [
      "lst2:  [5, 15, 25, 100, 200, 300, -400]\n"
     ]
    }
   ],
   "source": [
    "# Remove the first item from lst2 whose value is -400.\n",
    "lst2.remove(-400)\n",
    "print (\"lst2: \", lst2)"
   ]
  },
  {
   "cell_type": "code",
   "execution_count": 110,
   "id": "7df8282b",
   "metadata": {},
   "outputs": [
    {
     "name": "stdout",
     "output_type": "stream",
     "text": [
      "lst2:  [5, 15, 25, 100, 200, 300]\n"
     ]
    }
   ],
   "source": [
    "# Remove the item at index [6]\n",
    "del lst2[6]\n",
    "print (\"lst2: \", lst2)"
   ]
  },
  {
   "cell_type": "code",
   "execution_count": 111,
   "id": "fb174cc8",
   "metadata": {},
   "outputs": [
    {
     "name": "stdout",
     "output_type": "stream",
     "text": [
      "<built-in method pop of list object at 0x111140980>\n",
      "lst2:  [5, 15, 25, 100, 200]\n"
     ]
    }
   ],
   "source": [
    "# Remove and returns the last item in the list.\n",
    "lst2.pop()\n",
    "print(lst2.pop)\n",
    "print (\"lst2: \", lst2)"
   ]
  },
  {
   "cell_type": "code",
   "execution_count": 112,
   "id": "6527f87c",
   "metadata": {},
   "outputs": [
    {
     "name": "stdout",
     "output_type": "stream",
     "text": [
      "[10, 50, 50, 20, 0, 10, 50]\n"
     ]
    }
   ],
   "source": [
    "print (lst3)"
   ]
  },
  {
   "cell_type": "code",
   "execution_count": 113,
   "id": "e0e46fd2",
   "metadata": {
    "scrolled": true
   },
   "outputs": [
    {
     "name": "stdout",
     "output_type": "stream",
     "text": [
      "1\n"
     ]
    }
   ],
   "source": [
    "# Return the index in lst3 of the first item whose value is 50\n",
    "print (lst3.index(50))"
   ]
  },
  {
   "cell_type": "code",
   "execution_count": 114,
   "id": "56943d44",
   "metadata": {},
   "outputs": [
    {
     "name": "stdout",
     "output_type": "stream",
     "text": [
      "3\n"
     ]
    }
   ],
   "source": [
    "# Return the number of times 50 appears in lst3\n",
    "print (lst3.count(50)) "
   ]
  },
  {
   "cell_type": "code",
   "execution_count": 115,
   "id": "f44ee9da",
   "metadata": {},
   "outputs": [
    {
     "name": "stdout",
     "output_type": "stream",
     "text": [
      "lst3:  [50, 10, 0, 20, 50, 50, 10]\n"
     ]
    }
   ],
   "source": [
    "# Reverse the items of lst3 in place.\n",
    "lst3.reverse()\n",
    "print (\"lst3: \", lst3)"
   ]
  },
  {
   "cell_type": "code",
   "execution_count": 116,
   "id": "89b66c0f",
   "metadata": {},
   "outputs": [
    {
     "name": "stdout",
     "output_type": "stream",
     "text": [
      "lst3:  [0, 10, 10, 20, 50, 50, 50]\n"
     ]
    }
   ],
   "source": [
    "# Sort the items of lst3 in place.\n",
    "lst3.sort()\n",
    "print (\"lst3: \", lst3)"
   ]
  },
  {
   "cell_type": "code",
   "execution_count": 117,
   "id": "8953ed81",
   "metadata": {},
   "outputs": [
    {
     "name": "stdout",
     "output_type": "stream",
     "text": [
      "lst3:  []\n"
     ]
    }
   ],
   "source": [
    "# Remove all items from the list\n",
    "lst3.clear()\n",
    "print (\"lst3: \", lst3)"
   ]
  },
  {
   "cell_type": "code",
   "execution_count": 118,
   "id": "03e66a56",
   "metadata": {},
   "outputs": [
    {
     "ename": "NameError",
     "evalue": "name 'lst3' is not defined",
     "output_type": "error",
     "traceback": [
      "\u001b[0;31m---------------------------------------------------------------------------\u001b[0m",
      "\u001b[0;31mNameError\u001b[0m                                 Traceback (most recent call last)",
      "Input \u001b[0;32mIn [118]\u001b[0m, in \u001b[0;36m<cell line: 3>\u001b[0;34m()\u001b[0m\n\u001b[1;32m      1\u001b[0m \u001b[38;5;66;03m# Delete the list - so now any refrence to the list will be an error\u001b[39;00m\n\u001b[1;32m      2\u001b[0m \u001b[38;5;28;01mdel\u001b[39;00m lst3\n\u001b[0;32m----> 3\u001b[0m \u001b[38;5;28mprint\u001b[39m (\u001b[38;5;124m\"\u001b[39m\u001b[38;5;124mlst3: \u001b[39m\u001b[38;5;124m\"\u001b[39m, \u001b[43mlst3\u001b[49m)\n",
      "\u001b[0;31mNameError\u001b[0m: name 'lst3' is not defined"
     ]
    }
   ],
   "source": [
    "# Delete the list - so now any refrence to the list will be an error\n",
    "del lst3\n",
    "print (\"lst3: \", lst3)"
   ]
  },
  {
   "cell_type": "code",
   "execution_count": 119,
   "id": "9d70e25c",
   "metadata": {},
   "outputs": [
    {
     "name": "stdout",
     "output_type": "stream",
     "text": [
      "----------------------------------------------------------------------------------------------------\n"
     ]
    }
   ],
   "source": [
    "print(\"-\"*100)"
   ]
  },
  {
   "cell_type": "code",
   "execution_count": 120,
   "id": "3b1d191f",
   "metadata": {},
   "outputs": [],
   "source": [
    "#Test"
   ]
  },
  {
   "cell_type": "code",
   "execution_count": 122,
   "id": "dcb2a2e6",
   "metadata": {},
   "outputs": [
    {
     "name": "stdout",
     "output_type": "stream",
     "text": [
      "I\n",
      "509\n",
      "SCM\n"
     ]
    }
   ],
   "source": [
    "#TEST\n",
    "myStr = \"CIS 509\"\n",
    "myLst1 = ['CIS', '509']\n",
    "myLst2 = ['CIS', 'SCM', 'BDA']\n",
    "print (myStr[1])\n",
    "print (myLst1[1])\n",
    "print (myLst2[-2])"
   ]
  },
  {
   "cell_type": "code",
   "execution_count": 123,
   "id": "abac2baa",
   "metadata": {},
   "outputs": [
    {
     "ename": "NameError",
     "evalue": "name 'MyLst1' is not defined",
     "output_type": "error",
     "traceback": [
      "\u001b[0;31m---------------------------------------------------------------------------\u001b[0m",
      "\u001b[0;31mNameError\u001b[0m                                 Traceback (most recent call last)",
      "Input \u001b[0;32mIn [123]\u001b[0m, in \u001b[0;36m<cell line: 1>\u001b[0;34m()\u001b[0m\n\u001b[0;32m----> 1\u001b[0m \u001b[38;5;28mprint\u001b[39m (\u001b[43mMyLst1\u001b[49m)\n",
      "\u001b[0;31mNameError\u001b[0m: name 'MyLst1' is not defined"
     ]
    }
   ],
   "source": [
    "print (MyLst1)"
   ]
  },
  {
   "cell_type": "code",
   "execution_count": 124,
   "id": "64d7bb3e",
   "metadata": {},
   "outputs": [
    {
     "ename": "TypeError",
     "evalue": "'str' object does not support item assignment",
     "output_type": "error",
     "traceback": [
      "\u001b[0;31m---------------------------------------------------------------------------\u001b[0m",
      "\u001b[0;31mTypeError\u001b[0m                                 Traceback (most recent call last)",
      "Input \u001b[0;32mIn [124]\u001b[0m, in \u001b[0;36m<cell line: 1>\u001b[0;34m()\u001b[0m\n\u001b[0;32m----> 1\u001b[0m \u001b[43mmyStr\u001b[49m\u001b[43m[\u001b[49m\u001b[38;5;241;43m4\u001b[39;49m\u001b[43m]\u001b[49m \u001b[38;5;241m=\u001b[39m \u001b[38;5;124m'\u001b[39m\u001b[38;5;124m5\u001b[39m\u001b[38;5;124m'\u001b[39m\n\u001b[1;32m      2\u001b[0m myLst2\u001b[38;5;241m.\u001b[39mappend(\u001b[38;5;124m'\u001b[39m\u001b[38;5;124mMKTG\u001b[39m\u001b[38;5;124m'\u001b[39m)\n\u001b[1;32m      3\u001b[0m \u001b[38;5;28mprint\u001b[39m(myLst2)\n",
      "\u001b[0;31mTypeError\u001b[0m: 'str' object does not support item assignment"
     ]
    }
   ],
   "source": [
    "myStr[4] = '5'"
   ]
  },
  {
   "cell_type": "code",
   "execution_count": 125,
   "id": "de2b3fd6",
   "metadata": {},
   "outputs": [
    {
     "name": "stdout",
     "output_type": "stream",
     "text": [
      "['CIS', 'SCM', 'BDA', 'MKTG']\n"
     ]
    }
   ],
   "source": [
    "myLst2.append('MKTG')\n",
    "print(myLst2)"
   ]
  }
 ],
 "metadata": {
  "kernelspec": {
   "display_name": "Python 3 (ipykernel)",
   "language": "python",
   "name": "python3"
  },
  "language_info": {
   "codemirror_mode": {
    "name": "ipython",
    "version": 3
   },
   "file_extension": ".py",
   "mimetype": "text/x-python",
   "name": "python",
   "nbconvert_exporter": "python",
   "pygments_lexer": "ipython3",
   "version": "3.8.9"
  }
 },
 "nbformat": 4,
 "nbformat_minor": 5
}
