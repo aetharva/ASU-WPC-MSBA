{
 "cells": [
  {
   "cell_type": "code",
   "execution_count": 2,
   "id": "69729460",
   "metadata": {},
   "outputs": [
    {
     "name": "stdout",
     "output_type": "stream",
     "text": [
      "0\n",
      "\n"
     ]
    }
   ],
   "source": [
    "# Dictionaries are unordered set of <key:value> pairs, where the keys are of immutable\n",
    "# type, and must be unique within one dictionary. Dictionaries are indexed by keys.\n",
    "# Refered to as “associative memories” or “associative arrays” in other languages.\n",
    "# this creates an empty dictionary\n",
    "grades = {}\n",
    "print (len(grades))\n",
    "print ()"
   ]
  },
  {
   "cell_type": "code",
   "execution_count": 3,
   "id": "9792a589",
   "metadata": {},
   "outputs": [
    {
     "name": "stdout",
     "output_type": "stream",
     "text": [
      "{'jack': 90, 'jill': 100, 'joe': 99, 'nat': 95, 'eric': 100, 'aubry': 90}\n",
      "\n"
     ]
    }
   ],
   "source": [
    "# this creates a dictionary directly using comma-separated key:value pairs\n",
    "grades = {'jack':90, 'jill':100, 'joe':99, 'nat':95, 'eric':100, 'aubry':90}\n",
    "print (grades)\n",
    "print ()"
   ]
  },
  {
   "cell_type": "code",
   "execution_count": 4,
   "id": "8e968eb1",
   "metadata": {},
   "outputs": [
    {
     "name": "stdout",
     "output_type": "stream",
     "text": [
      "{'jack': 90, 'jill': 100, 'joe': 99, 'nat': 95, 'eric': 100, 'aubry': 90}\n"
     ]
    }
   ],
   "source": [
    "# this creates a dictionary with the constructor using sequences of key:value pairs\n",
    "grades = dict([('jack', 90), ('jill', 100), ('joe', 99),\n",
    " ('nat', 95), ('eric', 100), ('aubry', 90)])\n",
    "print (grades)"
   ]
  },
  {
   "cell_type": "code",
   "execution_count": 5,
   "id": "630242b2",
   "metadata": {},
   "outputs": [
    {
     "name": "stdout",
     "output_type": "stream",
     "text": [
      "{'jack': 90, 'jill': 100, 'joe': 90, 'nat': 95, 'eric': 100, 'aubry': 90}\n"
     ]
    }
   ],
   "source": [
    "# this creates a dictionary with the constructor using keyword arguments\n",
    "# (can only be done if keys are simple strings)\n",
    "grades = dict(jack=90, jill=100, joe=90, nat=95, eric=100, aubry=90)\n",
    "print (grades)"
   ]
  },
  {
   "cell_type": "code",
   "execution_count": 6,
   "id": "aedb950d",
   "metadata": {},
   "outputs": [
    {
     "name": "stdout",
     "output_type": "stream",
     "text": [
      "dict_keys(['jack', 'jill', 'joe', 'nat', 'eric', 'aubry'])\n"
     ]
    }
   ],
   "source": [
    "# this returns list of all keys used in dicitionary in arbitrary order\n",
    "print (grades.keys())"
   ]
  },
  {
   "cell_type": "code",
   "execution_count": 7,
   "id": "b6b1516f",
   "metadata": {},
   "outputs": [
    {
     "name": "stdout",
     "output_type": "stream",
     "text": [
      "['aubry', 'eric', 'jack', 'jill', 'joe', 'nat']\n"
     ]
    }
   ],
   "source": [
    "# this returns list of all keys used in dicitionary in sorted order\n",
    "print (sorted(grades.keys()))"
   ]
  },
  {
   "cell_type": "code",
   "execution_count": 8,
   "id": "0bd29cb4",
   "metadata": {},
   "outputs": [
    {
     "name": "stdout",
     "output_type": "stream",
     "text": [
      "95\n"
     ]
    }
   ],
   "source": [
    "# you can provide the key to extract the corresponding value\n",
    "print (grades['nat'])"
   ]
  },
  {
   "cell_type": "code",
   "execution_count": 9,
   "id": "9b3188e5",
   "metadata": {},
   "outputs": [
    {
     "name": "stdout",
     "output_type": "stream",
     "text": [
      "{'jack': 90, 'jill': 100, 'joe': 90, 'nat': 95, 'eric': 100, 'aubry': 93}\n"
     ]
    }
   ],
   "source": [
    "# you can modify the value associated with a key\n",
    "grades['aubry'] = 93\n",
    "print (grades)"
   ]
  },
  {
   "cell_type": "code",
   "execution_count": 10,
   "id": "a19d667b",
   "metadata": {},
   "outputs": [
    {
     "name": "stdout",
     "output_type": "stream",
     "text": [
      "{'jill': 100, 'joe': 90, 'nat': 95, 'eric': 100, 'aubry': 93}\n"
     ]
    }
   ],
   "source": [
    "# you can delete a key:value pair from the dictionary\n",
    "del grades['jack']\n",
    "print (grades)"
   ]
  },
  {
   "cell_type": "code",
   "execution_count": 11,
   "id": "62c63308",
   "metadata": {},
   "outputs": [
    {
     "name": "stdout",
     "output_type": "stream",
     "text": [
      "False\n"
     ]
    }
   ],
   "source": [
    "# you can check whether a key is in the dictionary\n",
    "print ('hina' in grades)"
   ]
  },
  {
   "cell_type": "code",
   "execution_count": 12,
   "id": "5e7f2351",
   "metadata": {},
   "outputs": [
    {
     "name": "stdout",
     "output_type": "stream",
     "text": [
      "{'interstellar': 8.7, 'unbroken': 7.2, 'divergent': 6.8, 'wild': 7.2, 'neighbors': 6.4}\n",
      "8.7\n"
     ]
    }
   ],
   "source": [
    "# test\n",
    "imdbRating = dict(interstellar=8.7, unbroken=7.2,\n",
    " divergent=6.8, wild=7.2, neighbors=6.4)\n",
    "print (imdbRating)\n",
    "print(imdbRating['interstellar'])"
   ]
  },
  {
   "cell_type": "code",
   "execution_count": 13,
   "id": "d4fc8594",
   "metadata": {},
   "outputs": [
    {
     "name": "stdout",
     "output_type": "stream",
     "text": [
      "{'interstellar': 8.7, 'unbroken': 10, 'divergent': 6.8, 'wild': 7.2, 'neighbors': 6.4}\n"
     ]
    },
    {
     "ename": "KeyError",
     "evalue": "'everest'",
     "output_type": "error",
     "traceback": [
      "\u001b[0;31m---------------------------------------------------------------------------\u001b[0m",
      "\u001b[0;31mKeyError\u001b[0m                                  Traceback (most recent call last)",
      "Input \u001b[0;32mIn [13]\u001b[0m, in \u001b[0;36m<cell line: 3>\u001b[0;34m()\u001b[0m\n\u001b[1;32m      1\u001b[0m imdbRating[\u001b[38;5;124m'\u001b[39m\u001b[38;5;124munbroken\u001b[39m\u001b[38;5;124m'\u001b[39m]\u001b[38;5;241m=\u001b[39m\u001b[38;5;241m10\u001b[39m\n\u001b[1;32m      2\u001b[0m \u001b[38;5;28mprint\u001b[39m (imdbRating)\n\u001b[0;32m----> 3\u001b[0m \u001b[38;5;28mprint\u001b[39m(\u001b[43mimdbRating\u001b[49m\u001b[43m[\u001b[49m\u001b[38;5;124;43m'\u001b[39;49m\u001b[38;5;124;43meverest\u001b[39;49m\u001b[38;5;124;43m'\u001b[39;49m\u001b[43m]\u001b[49m)\n",
      "\u001b[0;31mKeyError\u001b[0m: 'everest'"
     ]
    }
   ],
   "source": [
    "imdbRating['unbroken']=10\n",
    "print (imdbRating)\n",
    "print(imdbRating['everest'])"
   ]
  }
 ],
 "metadata": {
  "kernelspec": {
   "display_name": "Python 3 (ipykernel)",
   "language": "python",
   "name": "python3"
  },
  "language_info": {
   "codemirror_mode": {
    "name": "ipython",
    "version": 3
   },
   "file_extension": ".py",
   "mimetype": "text/x-python",
   "name": "python",
   "nbconvert_exporter": "python",
   "pygments_lexer": "ipython3",
   "version": "3.8.9"
  }
 },
 "nbformat": 4,
 "nbformat_minor": 5
}
