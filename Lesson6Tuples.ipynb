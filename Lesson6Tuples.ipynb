{
 "cells": [
  {
   "cell_type": "code",
   "execution_count": 1,
   "id": "af03475a",
   "metadata": {},
   "outputs": [
    {
     "name": "stdout",
     "output_type": "stream",
     "text": [
      "tuple1:  () 0\n",
      "tuple2:  () 0\n"
     ]
    }
   ],
   "source": [
    "# Tuples ()\n",
    "# Tuples are immutable sequences, typically used to store collections of heterogeneous\n",
    "# data, or for cases where an immutable sequence of homogeneous data is needed\n",
    "# declaring empty tuples\n",
    "tuple1 = ()\n",
    "print (\"tuple1: \", tuple1, len(tuple1))\n",
    "tuple2 = tuple ()\n",
    "print (\"tuple2: \", tuple2, len(tuple2))"
   ]
  },
  {
   "cell_type": "code",
   "execution_count": 2,
   "id": "333cb384",
   "metadata": {},
   "outputs": [
    {
     "name": "stdout",
     "output_type": "stream",
     "text": [
      "----------------------------------------------------------------------------------------------------\n"
     ]
    }
   ],
   "source": [
    "print(\"-\"*100)"
   ]
  },
  {
   "cell_type": "code",
   "execution_count": 3,
   "id": "2832b61c",
   "metadata": {},
   "outputs": [
    {
     "name": "stdout",
     "output_type": "stream",
     "text": [
      "tuple3:  (1,) 1\n"
     ]
    }
   ],
   "source": [
    "# singleton tuples must have a trailing comma\n",
    "tuple3 = (1,) # tuple3 = (1) will throw a syntax error\n",
    "print (\"tuple3: \", tuple3, len(tuple3))"
   ]
  },
  {
   "cell_type": "code",
   "execution_count": 4,
   "id": "5fc35ae5",
   "metadata": {},
   "outputs": [
    {
     "name": "stdout",
     "output_type": "stream",
     "text": [
      "----------------------------------------------------------------------------------------------------\n"
     ]
    }
   ],
   "source": [
    "print(\"-\"*100)"
   ]
  },
  {
   "cell_type": "code",
   "execution_count": 5,
   "id": "acec2459",
   "metadata": {},
   "outputs": [],
   "source": [
    "# tuple operations: limited since unlike lists, tuples are immutable\n",
    "tuple4 = (1, 2, 3)"
   ]
  },
  {
   "cell_type": "code",
   "execution_count": 6,
   "id": "65be95f1",
   "metadata": {},
   "outputs": [
    {
     "name": "stdout",
     "output_type": "stream",
     "text": [
      "tuple4:  (1, 2, 3) 3\n"
     ]
    }
   ],
   "source": [
    "# you can get length of tuples just like lists\n",
    "print (\"tuple4: \", tuple4, len(tuple4))"
   ]
  },
  {
   "cell_type": "code",
   "execution_count": 7,
   "id": "bc343b65",
   "metadata": {},
   "outputs": [
    {
     "name": "stdout",
     "output_type": "stream",
     "text": [
      "tuple4:  1 2 3\n"
     ]
    }
   ],
   "source": [
    "# you can index tuples just like lists\n",
    "print (\"tuple4: \", tuple4[0], tuple4[1], tuple4[2])"
   ]
  },
  {
   "cell_type": "code",
   "execution_count": 8,
   "id": "11da861d",
   "metadata": {},
   "outputs": [
    {
     "name": "stdout",
     "output_type": "stream",
     "text": [
      "tuple4[0:2]:  (1, 2)\n"
     ]
    }
   ],
   "source": [
    "# you can slice tuples just like lists\n",
    "print (\"tuple4[0:2]: \", tuple4[0:2]) "
   ]
  },
  {
   "cell_type": "code",
   "execution_count": 9,
   "id": "adaa920f",
   "metadata": {},
   "outputs": [
    {
     "name": "stdout",
     "output_type": "stream",
     "text": [
      "----------------------------------------------------------------------------------------------------\n"
     ]
    }
   ],
   "source": [
    "print(\"-\"*100)"
   ]
  },
  {
   "cell_type": "code",
   "execution_count": 10,
   "id": "962af2b3",
   "metadata": {},
   "outputs": [
    {
     "name": "stdout",
     "output_type": "stream",
     "text": [
      "tuple5:  ((1, 2, 3), (4, 5, 6)) 2\n",
      "tuple5[1][2]:  6\n"
     ]
    }
   ],
   "source": [
    "# you can also nest tuples like lists\n",
    "tuple5 = ((1, 2, 3), (4, 5, 6))\n",
    "print (\"tuple5: \", tuple5, len(tuple5))\n",
    "print (\"tuple5[1][2]: \", tuple5[1][2])"
   ]
  },
  {
   "cell_type": "code",
   "execution_count": 11,
   "id": "ceccea3d",
   "metadata": {},
   "outputs": [
    {
     "name": "stdout",
     "output_type": "stream",
     "text": [
      "----------------------------------------------------------------------------------------------------\n"
     ]
    }
   ],
   "source": [
    "print(\"-\"*100)"
   ]
  },
  {
   "cell_type": "code",
   "execution_count": 12,
   "id": "dd9cf77a",
   "metadata": {},
   "outputs": [
    {
     "name": "stdout",
     "output_type": "stream",
     "text": [
      "tuple6:  (1, 2, 3) 3\n"
     ]
    }
   ],
   "source": [
    "# you can convert lists to tuples\n",
    "tuple6 = tuple ([1, 2, 3])\n",
    "print (\"tuple6: \", tuple6, len(tuple6))"
   ]
  },
  {
   "cell_type": "code",
   "execution_count": 18,
   "id": "14d235ba",
   "metadata": {},
   "outputs": [
    {
     "name": "stdout",
     "output_type": "stream",
     "text": [
      "tuplex:  (1, 2, 3) 3\n",
      "[10, 20, 30]\n"
     ]
    }
   ],
   "source": [
    "# you can convert tuples to lists\n",
    "tuplex = tuple ([1, 2, 3])\n",
    "print (\"tuplex: \", tuplex, len(tuplex))\n",
    "\n",
    "lst = list ((10, 20, 30))\n",
    "print (lst)"
   ]
  },
  {
   "cell_type": "code",
   "execution_count": 19,
   "id": "44d249f7",
   "metadata": {},
   "outputs": [
    {
     "name": "stdout",
     "output_type": "stream",
     "text": [
      "----------------------------------------------------------------------------------------------------\n"
     ]
    }
   ],
   "source": [
    "print(\"-\"*100)"
   ]
  },
  {
   "cell_type": "code",
   "execution_count": 20,
   "id": "8bddd89b",
   "metadata": {},
   "outputs": [
    {
     "name": "stdout",
     "output_type": "stream",
     "text": [
      "tuple7:  (1, 2, 3) 3\n",
      "unpacked tuple7:  1 2 3\n"
     ]
    }
   ],
   "source": [
    "# tuple packing and unpacking\n",
    "# multiple assignment is essentially packing/unpacking in action\n",
    "# tuple packing\n",
    "tuple7 = 1, 2, 3\n",
    "print (\"tuple7: \", tuple7, len(tuple7))\n",
    "# tuple unpacking\n",
    "x, y, z = tuple7\n",
    "print (\"unpacked tuple7: \", x, y, z)\n",
    "# Note that it is actually the comma which makes a tuple, not the parentheses.\n",
    "# The parentheses are optional, except in the empty tuple case, or when they\n",
    "# are needed to avoid syntactic ambiguity.\n",
    "# For example, f(a, b, c) is a function call with three arguments,\n",
    "# while f((a, b, c)) is a function call with a 3-tuple as the sole argument."
   ]
  },
  {
   "cell_type": "code",
   "execution_count": 21,
   "id": "585b3aec",
   "metadata": {},
   "outputs": [
    {
     "name": "stdout",
     "output_type": "stream",
     "text": [
      "----------------------------------------------------------------------------------------------------\n"
     ]
    }
   ],
   "source": [
    "print(\"-\"*100)"
   ]
  },
  {
   "cell_type": "code",
   "execution_count": 25,
   "id": "4199a4b0",
   "metadata": {},
   "outputs": [
    {
     "name": "stdout",
     "output_type": "stream",
     "text": [
      "1\n"
     ]
    }
   ],
   "source": [
    "# test\n",
    "tup1 = (2,) #comma for tuple with single element\n",
    "print(len(tup1))"
   ]
  },
  {
   "cell_type": "code",
   "execution_count": 26,
   "id": "cfe720fb",
   "metadata": {},
   "outputs": [
    {
     "ename": "TypeError",
     "evalue": "'tuple' object does not support item assignment",
     "output_type": "error",
     "traceback": [
      "\u001b[0;31m---------------------------------------------------------------------------\u001b[0m",
      "\u001b[0;31mTypeError\u001b[0m                                 Traceback (most recent call last)",
      "Input \u001b[0;32mIn [26]\u001b[0m, in \u001b[0;36m<cell line: 2>\u001b[0;34m()\u001b[0m\n\u001b[1;32m      1\u001b[0m tup2 \u001b[38;5;241m=\u001b[39m (\u001b[38;5;241m1\u001b[39m, \u001b[38;5;241m2\u001b[39m, \u001b[38;5;241m3\u001b[39m)\n\u001b[0;32m----> 2\u001b[0m \u001b[43mtup2\u001b[49m\u001b[43m[\u001b[49m\u001b[38;5;241;43m1\u001b[39;49m\u001b[43m]\u001b[49m \u001b[38;5;241m=\u001b[39m \u001b[38;5;241m10\u001b[39m\n",
      "\u001b[0;31mTypeError\u001b[0m: 'tuple' object does not support item assignment"
     ]
    }
   ],
   "source": [
    "tup2 = (1, 2, 3)\n",
    "tup2[1] = 10 #immutable"
   ]
  },
  {
   "cell_type": "code",
   "execution_count": 27,
   "id": "a37d2104",
   "metadata": {},
   "outputs": [
    {
     "name": "stdout",
     "output_type": "stream",
     "text": [
      "10 Dog 30\n"
     ]
    }
   ],
   "source": [
    "x, y, z = [10, 'Dog', 30]\n",
    "print (x, y, z)"
   ]
  }
 ],
 "metadata": {
  "kernelspec": {
   "display_name": "Python 3 (ipykernel)",
   "language": "python",
   "name": "python3"
  },
  "language_info": {
   "codemirror_mode": {
    "name": "ipython",
    "version": 3
   },
   "file_extension": ".py",
   "mimetype": "text/x-python",
   "name": "python",
   "nbconvert_exporter": "python",
   "pygments_lexer": "ipython3",
   "version": "3.8.9"
  }
 },
 "nbformat": 4,
 "nbformat_minor": 5
}
