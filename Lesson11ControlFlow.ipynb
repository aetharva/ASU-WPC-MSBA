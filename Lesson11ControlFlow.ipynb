{
 "cells": [
  {
   "cell_type": "code",
   "execution_count": 3,
   "id": "58ea5cb6",
   "metadata": {},
   "outputs": [
    {
     "name": "stdout",
     "output_type": "stream",
     "text": [
      "Fibonacci series using while loop: \n",
      "1, 1, 2, 3, 5, 8, 13, 21, 34, 55, 89, "
     ]
    }
   ],
   "source": [
    "# The while statements will evaluate till the while condition holds true\n",
    "# let's use a while loop to print out the Fibonacci Series:\n",
    "# 0, 1, 1, 2, 3, 5, 8, 13, 21, ...\n",
    "# so essentially, we start with the elements 0 and 1, and then each\n",
    "# successive element of the series is the sum of the previous two elements\n",
    "print (\"Fibonacci series using while loop: \")\n",
    "a, b = 0, 1\n",
    "while (b < 100):\n",
    " print (b, end = ', ')\n",
    " a, b = b, a+b"
   ]
  },
  {
   "cell_type": "code",
   "execution_count": 4,
   "id": "d24a156f",
   "metadata": {},
   "outputs": [
    {
     "name": "stdout",
     "output_type": "stream",
     "text": [
      "Fibonacci series using while loop: \n",
      "1, 1, 2, 3, 5, 8, 13, 21, 34, 55, 89, "
     ]
    }
   ],
   "source": [
    "# note: Python uses indentation to identify code blocks\n",
    "# so the following would produce the error:\n",
    "# \"unindent does not match any outer indentation leve\"\n",
    "print (\"Fibonacci series using while loop: \")\n",
    "a, b = 0, 1\n",
    "while (b < 100):\n",
    " print (b, end = ', ')\n",
    " a, b = b, a+b"
   ]
  },
  {
   "cell_type": "code",
   "execution_count": 5,
   "id": "fab86b19",
   "metadata": {},
   "outputs": [
    {
     "name": "stdout",
     "output_type": "stream",
     "text": [
      "Word starts with P\n"
     ]
    }
   ],
   "source": [
    "# The \"if\" statement first evaluates the \"if\" condition.\n",
    "# - if the condition evaluates to true, it executes the corresponding code\n",
    "# block and stops\n",
    "# - if the condition evaluates to false, it evaluates the next-in-line\n",
    "# \"elif\" condition, and if that condition evaluates to true, it executes\n",
    "# the corresponding code block and stops\n",
    "# - if none of the \"if\" and \"elif\" conditions are true, it will default to\n",
    "# the execution of the code block corresponding to the \"else\" statement\n",
    "# (if one exists) and stop\n",
    "\n",
    "word = 'Python'\n",
    "# word = 'Jython'\n",
    "# word = 'Anaconda'\n",
    "# word = 'CIS415'\n",
    "\n",
    "if (word.startswith('P')):\n",
    " print (\"Word starts with P\")\n",
    "elif (word.endswith('n')):\n",
    " print (\"Word ends with n\")\n",
    "elif (word.startswith('A')):\n",
    " print (\"Word starts with A\")\n",
    "else:\n",
    " print (\"Unknown word\")"
   ]
  },
  {
   "cell_type": "code",
   "execution_count": 6,
   "id": "90c873cc",
   "metadata": {},
   "outputs": [
    {
     "name": "stdout",
     "output_type": "stream",
     "text": [
      "cat 3\n",
      "dog 3\n",
      "cow 3\n",
      "parrot 6\n",
      "hamster 7\n",
      "goat 4\n"
     ]
    }
   ],
   "source": [
    "# The for statement in Python differs a bit from what you may be used to.\n",
    "# Rather than always iterating over an arithmetic progression of numbers, or\n",
    "# giving you the ability to define both the iteration step and halting\n",
    "# condition, Python’s for statement iterates over the items of any iterable\n",
    "# sequence (such as a list, tuple, or string), in the order that they appear\n",
    "# in the sequence\n",
    "words = ['cat', 'dog', 'cow', 'parrot', 'hamster', 'goat']\n",
    "for w in words:\n",
    " print (w, len(w))"
   ]
  },
  {
   "cell_type": "code",
   "execution_count": 7,
   "id": "7dd5b329",
   "metadata": {},
   "outputs": [
    {
     "name": "stdout",
     "output_type": "stream",
     "text": [
      "0,1,2,3,4,"
     ]
    }
   ],
   "source": [
    "# The range function generates arithmetic prgogressions\n",
    "# range(n) -> 0,...,n-1 in increments of 1\n",
    "for i in range(5):\n",
    " print (i, end=',')"
   ]
  },
  {
   "cell_type": "code",
   "execution_count": 8,
   "id": "98cd54aa",
   "metadata": {},
   "outputs": [
    {
     "name": "stdout",
     "output_type": "stream",
     "text": [
      "3,4,5,6,7,8,9,"
     ]
    }
   ],
   "source": [
    "# range(m,n) -> m,...,n-1 in increments of 1\n",
    "# if m >= n, returns nothing\n",
    "for i in range(3,10):\n",
    " print (i, end=',')"
   ]
  },
  {
   "cell_type": "code",
   "execution_count": 9,
   "id": "e3a5d291",
   "metadata": {},
   "outputs": [
    {
     "name": "stdout",
     "output_type": "stream",
     "text": [
      "3,5,7,9,"
     ]
    }
   ],
   "source": [
    "# range(m,n,k) -> m,...,<=n-1 in increments of k\n",
    "# counts in positive increments if n > m, and k is positive\n",
    "for i in range(3,10,2):\n",
    " print (i, end=',')"
   ]
  },
  {
   "cell_type": "code",
   "execution_count": 10,
   "id": "25bbba30",
   "metadata": {},
   "outputs": [
    {
     "name": "stdout",
     "output_type": "stream",
     "text": [
      "10,5,0,-5,-10,-15,-20,-25,"
     ]
    }
   ],
   "source": [
    "# counts in negative increments if n < m, and k is negative\n",
    "for i in range(10,-30,-5):\n",
    " print (i, end=',')"
   ]
  },
  {
   "cell_type": "code",
   "execution_count": 11,
   "id": "211b8168",
   "metadata": {},
   "outputs": [
    {
     "name": "stdout",
     "output_type": "stream",
     "text": [
      "[[0, 'jane'], [1, 'john'], [2, 'mark'], [3, 'harry'], [4, 'mike'], [5, 'ed']]\n"
     ]
    }
   ],
   "source": [
    "words = ['jane', 'john', 'mark', 'harry', 'mike', 'ed']\n",
    "wordlist = []\n",
    "for i in range(len(words)):\n",
    " wordlist.append([i, words[i]])\n",
    "print (wordlist)"
   ]
  },
  {
   "cell_type": "code",
   "execution_count": 12,
   "id": "06b0fd0e",
   "metadata": {},
   "outputs": [
    {
     "name": "stdout",
     "output_type": "stream",
     "text": [
      "range is not a list:  range(0, 10)\n",
      "generate list underlying range:  [0, 1, 2, 3, 4, 5, 6, 7, 8, 9]\n"
     ]
    }
   ],
   "source": [
    "# Note: The object returned by range() behaves as if it is a list,\n",
    "# but in fact it isn’t. It is an object which returns the successive items of\n",
    "# the desired sequence when you iterate over it, but it doesn’t really make\n",
    "# the list, thus saving space.\n",
    "print (\"range is not a list: \", range(10))\n",
    "print (\"generate list underlying range: \", list(range(10)))"
   ]
  },
  {
   "cell_type": "code",
   "execution_count": 30,
   "id": "1992f25c",
   "metadata": {},
   "outputs": [
    {
     "name": "stdout",
     "output_type": "stream",
     "text": [
      "found even number:  2\n",
      "found even number:  4\n",
      "found even number:  6\n",
      "found even number:  8\n"
     ]
    }
   ],
   "source": [
    "# without break -\n",
    "for n in range(1, 10):\n",
    " if n % 2 == 0:\n",
    "  print(\"found even number: \", n)"
   ]
  },
  {
   "cell_type": "code",
   "execution_count": 31,
   "id": "5eb41a7f",
   "metadata": {},
   "outputs": [
    {
     "name": "stdout",
     "output_type": "stream",
     "text": [
      "found even number:  2\n",
      "found even number:  4\n",
      "found even number:  6\n",
      "found even number:  8\n"
     ]
    }
   ],
   "source": [
    "# without break -\n",
    "for n in range(1, 10):\n",
    " if n % 2 == 0:\n",
    "  print(\"found even number: \", n)\n",
    "  continue"
   ]
  },
  {
   "cell_type": "code",
   "execution_count": 29,
   "id": "6922d81a",
   "metadata": {},
   "outputs": [
    {
     "name": "stdout",
     "output_type": "stream",
     "text": [
      "found even number:  2\n"
     ]
    }
   ],
   "source": [
    "# break -\n",
    "# breaks out of the smallest enclosing for or while loop.\n",
    "for n in range(1, 10):\n",
    " if n % 2 == 0:\n",
    "  print(\"found even number: \", n)\n",
    "  break"
   ]
  },
  {
   "cell_type": "code",
   "execution_count": 16,
   "id": "a773f68f",
   "metadata": {},
   "outputs": [
    {
     "name": "stdout",
     "output_type": "stream",
     "text": [
      "even number not found\n"
     ]
    }
   ],
   "source": [
    "for n in range(1, 10, 2):\n",
    " if n % 2 == 0:\n",
    "  print(\"found even number: \", n)\n",
    "  break\n",
    "else:\n",
    " # loop fell through without finding a factor\n",
    " print(\"even number not found\")"
   ]
  },
  {
   "cell_type": "code",
   "execution_count": 18,
   "id": "69d0bef0",
   "metadata": {
    "scrolled": true
   },
   "outputs": [
    {
     "name": "stdout",
     "output_type": "stream",
     "text": [
      "even number:  2\n",
      "even number:  4\n",
      "even number:  6\n",
      "even number:  8\n",
      "not an even number 9\n"
     ]
    }
   ],
   "source": [
    "# continue -\n",
    "# continues with the next iteration of the loop\n",
    "for n in range(1, 10):\n",
    " if n % 2 == 0:\n",
    "  print(\"even number: \", n)\n",
    "  continue\n",
    "print(\"not an even number\", n)"
   ]
  },
  {
   "cell_type": "code",
   "execution_count": 34,
   "id": "c6b2a4dc",
   "metadata": {},
   "outputs": [],
   "source": [
    "# Pass statements\n",
    "# the pass statement does nothing. It can be used when a statement is\n",
    "# required syntactically but the program requires no action.\n",
    "#while True:\n",
    "# pass # Busy-wait for keyboard interrupt (Ctrl+C)\n",
    "\n",
    "#class MyEmptyClass:\n",
    "# pass # create a minimal class\n",
    "\n",
    "#def initlog(*args):\n",
    "# pass # placehodler for function what implementing new code\n",
    "\n",
    "# test\n",
    "for i in range(1, -10, 2):\n",
    " print (i, end = ',')"
   ]
  },
  {
   "cell_type": "code",
   "execution_count": 21,
   "id": "621542e4",
   "metadata": {},
   "outputs": [
    {
     "ename": "KeyboardInterrupt",
     "evalue": "",
     "output_type": "error",
     "traceback": [
      "\u001b[0;31m---------------------------------------------------------------------------\u001b[0m",
      "\u001b[0;31mKeyboardInterrupt\u001b[0m                         Traceback (most recent call last)",
      "Input \u001b[0;32mIn [21]\u001b[0m, in \u001b[0;36m<cell line: 2>\u001b[0;34m()\u001b[0m\n\u001b[1;32m      1\u001b[0m \u001b[38;5;28;01mwhile\u001b[39;00m (\u001b[38;5;28;01mTrue\u001b[39;00m):\n\u001b[0;32m----> 2\u001b[0m  \u001b[38;5;28;01mpass\u001b[39;00m\n",
      "\u001b[0;31mKeyboardInterrupt\u001b[0m: "
     ]
    }
   ],
   "source": [
    "while (True):\n",
    " pass"
   ]
  },
  {
   "cell_type": "code",
   "execution_count": 22,
   "id": "64ae5524",
   "metadata": {},
   "outputs": [
    {
     "name": "stdout",
     "output_type": "stream",
     "text": [
      "1\n",
      "2\n",
      "3\n",
      "4\n",
      "5\n",
      "6\n",
      "7\n",
      "8\n",
      "9\n"
     ]
    }
   ],
   "source": [
    "n = 1\n",
    "while (n < 10):\n",
    " print (n)\n",
    " n = n + 1"
   ]
  },
  {
   "cell_type": "code",
   "execution_count": 27,
   "id": "7aae9a2c",
   "metadata": {},
   "outputs": [],
   "source": [
    "if (5 < 3):\n",
    " print (\"condition is true\")"
   ]
  }
 ],
 "metadata": {
  "kernelspec": {
   "display_name": "Python 3 (ipykernel)",
   "language": "python",
   "name": "python3"
  },
  "language_info": {
   "codemirror_mode": {
    "name": "ipython",
    "version": 3
   },
   "file_extension": ".py",
   "mimetype": "text/x-python",
   "name": "python",
   "nbconvert_exporter": "python",
   "pygments_lexer": "ipython3",
   "version": "3.9.12"
  }
 },
 "nbformat": 4,
 "nbformat_minor": 5
}
