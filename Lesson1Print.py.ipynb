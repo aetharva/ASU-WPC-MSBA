{
 "cells": [
  {
   "cell_type": "code",
   "execution_count": 2,
   "id": "1f23a713",
   "metadata": {},
   "outputs": [
    {
     "name": "stdout",
     "output_type": "stream",
     "text": [
      "Hello\n"
     ]
    }
   ],
   "source": [
    "print(\"Hello\")"
   ]
  },
  {
   "cell_type": "code",
   "execution_count": 3,
   "id": "738bbb40",
   "metadata": {},
   "outputs": [
    {
     "name": "stdout",
     "output_type": "stream",
     "text": [
      "Hello World\n"
     ]
    }
   ],
   "source": [
    "print('Hello World')"
   ]
  },
  {
   "cell_type": "code",
   "execution_count": 5,
   "id": "247982c0",
   "metadata": {},
   "outputs": [
    {
     "name": "stdout",
     "output_type": "stream",
     "text": [
      "\"Hello World!\".\n"
     ]
    }
   ],
   "source": [
    "print(\"\\\"Hello World!\\\".\")"
   ]
  },
  {
   "cell_type": "code",
   "execution_count": 6,
   "id": "3639c0b4",
   "metadata": {},
   "outputs": [
    {
     "name": "stdout",
     "output_type": "stream",
     "text": [
      "\n"
     ]
    }
   ],
   "source": [
    "print()"
   ]
  },
  {
   "cell_type": "code",
   "execution_count": 9,
   "id": "69b3bce1",
   "metadata": {},
   "outputs": [
    {
     "name": "stdout",
     "output_type": "stream",
     "text": [
      "I'm learning Python. And we're starting with the Print Statements.\n"
     ]
    }
   ],
   "source": [
    "print (\"I'm learning Python. \\\n",
    "And we're starting with the Print Statements.\")"
   ]
  },
  {
   "cell_type": "code",
   "execution_count": 10,
   "id": "ec23b94d",
   "metadata": {},
   "outputs": [
    {
     "name": "stdout",
     "output_type": "stream",
     "text": [
      "I'm learning Python.\n",
      "And we're starting with the Print Statements.\n"
     ]
    }
   ],
   "source": [
    "print (\"\"\"I'm learning Python.\n",
    "And we're starting with the Print Statements.\"\"\")"
   ]
  },
  {
   "cell_type": "code",
   "execution_count": 11,
   "id": "0d938f47",
   "metadata": {},
   "outputs": [
    {
     "name": "stdout",
     "output_type": "stream",
     "text": [
      "I'm learning Python. \n",
      "And we're starting with the Print Statements.\n"
     ]
    }
   ],
   "source": [
    "print (\"I'm learning Python. \\nAnd we're starting with the Print Statements.\")"
   ]
  },
  {
   "cell_type": "code",
   "execution_count": 12,
   "id": "e325586a",
   "metadata": {},
   "outputs": [
    {
     "name": "stdout",
     "output_type": "stream",
     "text": [
      "I'm learning Python. \\nAnd we're starting with the Print Statements.\n"
     ]
    }
   ],
   "source": [
    "print (r\"I'm learning Python. \\nAnd we're starting with the Print Statements.\")"
   ]
  },
  {
   "cell_type": "code",
   "execution_count": 14,
   "id": "6223f9f1",
   "metadata": {},
   "outputs": [
    {
     "name": "stdout",
     "output_type": "stream",
     "text": [
      "We'll first learn how to Print.\n",
      "Then we'll learn how to code.\n"
     ]
    }
   ],
   "source": [
    "print (\"We'll first learn how to Print.\")\n",
    "print(\"Then we'll learn how to code.\")"
   ]
  },
  {
   "cell_type": "code",
   "execution_count": 18,
   "id": "d798ff97",
   "metadata": {},
   "outputs": [
    {
     "name": "stdout",
     "output_type": "stream",
     "text": [
      "We'll first learn how to Print. Then we'll learn how to code.\n"
     ]
    }
   ],
   "source": [
    "print (\"We'll first learn how to Print.\", end=' ')\n",
    "print(\"Then we'll learn how to code.\")"
   ]
  },
  {
   "cell_type": "code",
   "execution_count": 16,
   "id": "ed0fbe76",
   "metadata": {},
   "outputs": [
    {
     "name": "stdout",
     "output_type": "stream",
     "text": [
      "We'll first learn how to Print.. .Then we'll learn how to code.\n"
     ]
    }
   ],
   "source": [
    "print (\"We'll first learn how to Print.\", end='. .')\n",
    "print(\"Then we'll learn how to code.\")"
   ]
  },
  {
   "cell_type": "code",
   "execution_count": 19,
   "id": "d4f78e2a",
   "metadata": {},
   "outputs": [],
   "source": [
    "#print (\"Whisper: can you hear me?\")"
   ]
  },
  {
   "cell_type": "code",
   "execution_count": 22,
   "id": "b23426ed",
   "metadata": {},
   "outputs": [
    {
     "name": "stdout",
     "output_type": "stream",
     "text": [
      "Can you hear me now?\n"
     ]
    }
   ],
   "source": [
    "print (\"Can you hear me now?\") #print (\"How about now?\")"
   ]
  },
  {
   "cell_type": "code",
   "execution_count": 23,
   "id": "b94c9f5e",
   "metadata": {},
   "outputs": [
    {
     "name": "stdout",
     "output_type": "stream",
     "text": [
      "# And what about now? # Can you hear me now?\n"
     ]
    }
   ],
   "source": [
    "print (\"# And what about now? # Can you hear me now?\")"
   ]
  },
  {
   "cell_type": "code",
   "execution_count": 24,
   "id": "8cecc9c9",
   "metadata": {},
   "outputs": [
    {
     "name": "stdout",
     "output_type": "stream",
     "text": [
      "Okay so maybe I need to repeat myself...Okay so maybe I need to repeat myself...Okay so maybe I need to repeat myself...\n"
     ]
    }
   ],
   "source": [
    "print (\"Okay so maybe I need to repeat myself...\"*3)"
   ]
  },
  {
   "cell_type": "code",
   "execution_count": 25,
   "id": "84eab041",
   "metadata": {},
   "outputs": [
    {
     "name": "stdout",
     "output_type": "stream",
     "text": [
      "Can you hear me now...Can you hear me now...Can you hear me now...\n"
     ]
    }
   ],
   "source": [
    "print (\"Can you hear me now...\" + \"Can you hear me now...\" + \"Can you hear me now...\")"
   ]
  },
  {
   "cell_type": "code",
   "execution_count": 26,
   "id": "26ce6e8b",
   "metadata": {},
   "outputs": [
    {
     "name": "stdout",
     "output_type": "stream",
     "text": [
      "Number of times I repeated: 3\n"
     ]
    }
   ],
   "source": [
    "print (\"Number of times I repeated:\", 3)"
   ]
  },
  {
   "cell_type": "code",
   "execution_count": 27,
   "id": "1dcf3f5a",
   "metadata": {},
   "outputs": [
    {
     "name": "stdout",
     "output_type": "stream",
     "text": [
      "Number of times I repeated: 3\n"
     ]
    }
   ],
   "source": [
    "print (\"Number of times I repeated: 3\")"
   ]
  },
  {
   "cell_type": "code",
   "execution_count": 28,
   "id": "7742321b",
   "metadata": {},
   "outputs": [
    {
     "name": "stdout",
     "output_type": "stream",
     "text": [
      "Hi there how are you\n"
     ]
    }
   ],
   "source": [
    "print (\"Hi\", \"there\", \"how\", \"are\",\"you\")"
   ]
  },
  {
   "cell_type": "code",
   "execution_count": 29,
   "id": "fdc07502",
   "metadata": {},
   "outputs": [
    {
     "name": "stdout",
     "output_type": "stream",
     "text": [
      "Hi I have 20 oranges and 30 apples\n"
     ]
    }
   ],
   "source": [
    "print (\"Hi I have\", 20, \"oranges and\", 30, \"apples\")"
   ]
  },
  {
   "cell_type": "code",
   "execution_count": 32,
   "id": "67977d8d",
   "metadata": {},
   "outputs": [
    {
     "ename": "SyntaxError",
     "evalue": "invalid syntax (3315155246.py, line 3)",
     "output_type": "error",
     "traceback": [
      "\u001b[0;36m  Input \u001b[0;32mIn [32]\u001b[0;36m\u001b[0m\n\u001b[0;31m    print(\"\"Hi there!\"\")\u001b[0m\n\u001b[0m            ^\u001b[0m\n\u001b[0;31mSyntaxError\u001b[0m\u001b[0;31m:\u001b[0m invalid syntax\n"
     ]
    }
   ],
   "source": [
    "#print test1\n",
    "\n",
    "print(\"\"Hi there!\"\")"
   ]
  },
  {
   "cell_type": "code",
   "execution_count": 34,
   "id": "1345cf27",
   "metadata": {},
   "outputs": [
    {
     "ename": "SyntaxError",
     "evalue": "invalid syntax (3554657851.py, line 4)",
     "output_type": "error",
     "traceback": [
      "\u001b[0;36m  Input \u001b[0;32mIn [34]\u001b[0;36m\u001b[0m\n\u001b[0;31m    there)\u001b[0m\n\u001b[0m    ^\u001b[0m\n\u001b[0;31mSyntaxError\u001b[0m\u001b[0;31m:\u001b[0m invalid syntax\n"
     ]
    }
   ],
   "source": [
    "#print test2\n",
    "\n",
    "print (Hi\n",
    "there)"
   ]
  },
  {
   "cell_type": "code",
   "execution_count": 33,
   "id": "49416b4a",
   "metadata": {},
   "outputs": [
    {
     "name": "stdout",
     "output_type": "stream",
     "text": [
      "I have 32 students in my class\n"
     ]
    }
   ],
   "source": [
    "#print test3\n",
    "\n",
    "print (\"I\", \"have\", 32, \"students in my class\")"
   ]
  }
 ],
 "metadata": {
  "kernelspec": {
   "display_name": "Python 3 (ipykernel)",
   "language": "python",
   "name": "python3"
  },
  "language_info": {
   "codemirror_mode": {
    "name": "ipython",
    "version": 3
   },
   "file_extension": ".py",
   "mimetype": "text/x-python",
   "name": "python",
   "nbconvert_exporter": "python",
   "pygments_lexer": "ipython3",
   "version": "3.8.9"
  }
 },
 "nbformat": 4,
 "nbformat_minor": 5
}
