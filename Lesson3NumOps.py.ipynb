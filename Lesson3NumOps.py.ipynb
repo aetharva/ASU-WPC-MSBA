{
 "cells": [
  {
   "cell_type": "code",
   "execution_count": 2,
   "id": "341e231f",
   "metadata": {
    "scrolled": true
   },
   "outputs": [
    {
     "name": "stdout",
     "output_type": "stream",
     "text": [
      "Power operator:   **\n"
     ]
    }
   ],
   "source": [
    "print (\"Power operator:   **\")"
   ]
  },
  {
   "cell_type": "code",
   "execution_count": 4,
   "id": "8243b294",
   "metadata": {},
   "outputs": [
    {
     "name": "stdout",
     "output_type": "stream",
     "text": [
      "2**4 =  16\n"
     ]
    }
   ],
   "source": [
    "print (\"2**4 = \", 2**4)"
   ]
  },
  {
   "cell_type": "code",
   "execution_count": 6,
   "id": "8e1736ff",
   "metadata": {},
   "outputs": [
    {
     "name": "stdout",
     "output_type": "stream",
     "text": [
      "-3**2 =  -9\n"
     ]
    }
   ],
   "source": [
    "print (\"-3**2 = \", -3**2)"
   ]
  },
  {
   "cell_type": "code",
   "execution_count": 8,
   "id": "b87e3d12",
   "metadata": {},
   "outputs": [
    {
     "name": "stdout",
     "output_type": "stream",
     "text": [
      "3**-2 =  0.1111111111111111\n"
     ]
    }
   ],
   "source": [
    "print (\"3**-2 = \", 3**-2)"
   ]
  },
  {
   "cell_type": "code",
   "execution_count": 9,
   "id": "b6770ec6",
   "metadata": {},
   "outputs": [
    {
     "name": "stdout",
     "output_type": "stream",
     "text": [
      "Unary and Bitwise operators:   -   ~ \n"
     ]
    }
   ],
   "source": [
    "print (\"Unary and Bitwise operators:   -   ~ \")"
   ]
  },
  {
   "cell_type": "code",
   "execution_count": 11,
   "id": "b948a79e",
   "metadata": {},
   "outputs": [
    {
     "name": "stdout",
     "output_type": "stream",
     "text": [
      "-2 =  -2\n"
     ]
    }
   ],
   "source": [
    "print (\"-2 = \", -2)"
   ]
  },
  {
   "cell_type": "code",
   "execution_count": 12,
   "id": "ff6b03a4",
   "metadata": {},
   "outputs": [
    {
     "name": "stdout",
     "output_type": "stream",
     "text": [
      "~2 =  -3 (bitwise inversion)\n"
     ]
    }
   ],
   "source": [
    "print (\"~2 = \", ~2, \"(bitwise inversion)\")"
   ]
  },
  {
   "cell_type": "code",
   "execution_count": 13,
   "id": "d2f16523",
   "metadata": {},
   "outputs": [
    {
     "name": "stdout",
     "output_type": "stream",
     "text": [
      "Binary operators:   +.  -   *.  /.  %.  //\n"
     ]
    }
   ],
   "source": [
    "print (\"Binary operators:   +.  -   *.  /.  %.  //\")"
   ]
  },
  {
   "cell_type": "code",
   "execution_count": 15,
   "id": "204652ae",
   "metadata": {},
   "outputs": [
    {
     "name": "stdout",
     "output_type": "stream",
     "text": [
      "The Floor operator // yeilds the quotient: 13.5//2 =  6.0\n"
     ]
    }
   ],
   "source": [
    "print (\"The Floor operator // yeilds the quotient: 13.5//2 = \", 13.5//2)"
   ]
  },
  {
   "cell_type": "code",
   "execution_count": 16,
   "id": "862bcf69",
   "metadata": {},
   "outputs": [
    {
     "name": "stdout",
     "output_type": "stream",
     "text": [
      "The module operator % yeilds the remainder: 13.52%2 =  1.5\n"
     ]
    }
   ],
   "source": [
    "print (\"The module operator % yeilds the remainder: 13.52%2 = \", 13.5%2)"
   ]
  },
  {
   "cell_type": "code",
   "execution_count": 20,
   "id": "dc1a3348",
   "metadata": {},
   "outputs": [
    {
     "name": "stdout",
     "output_type": "stream",
     "text": [
      "Shifting operators:   >>  <<\n"
     ]
    }
   ],
   "source": [
    "print (\"Shifting operators:   >>  <<\")"
   ]
  },
  {
   "cell_type": "code",
   "execution_count": 21,
   "id": "a51938ee",
   "metadata": {},
   "outputs": [
    {
     "name": "stdout",
     "output_type": "stream",
     "text": [
      "100 >> 3 =  12\n"
     ]
    }
   ],
   "source": [
    "print (\"100 >> 3 = \", 100 >> 3)"
   ]
  },
  {
   "cell_type": "code",
   "execution_count": 22,
   "id": "63699120",
   "metadata": {},
   "outputs": [
    {
     "name": "stdout",
     "output_type": "stream",
     "text": [
      "      Same as: 100 // (2**3) =  12\n"
     ]
    }
   ],
   "source": [
    "print (\"      Same as: 100 // (2**3) = \", 100 // (2**3))"
   ]
  },
  {
   "cell_type": "code",
   "execution_count": 23,
   "id": "b75c7fc8",
   "metadata": {},
   "outputs": [
    {
     "name": "stdout",
     "output_type": "stream",
     "text": [
      "100 >> 3 =  800\n"
     ]
    }
   ],
   "source": [
    "print (\"100 >> 3 = \", 100 << 3)"
   ]
  },
  {
   "cell_type": "code",
   "execution_count": 24,
   "id": "1e449fc2",
   "metadata": {},
   "outputs": [
    {
     "name": "stdout",
     "output_type": "stream",
     "text": [
      "      Same as: 100 // (2**3) =  800\n"
     ]
    }
   ],
   "source": [
    "print (\"      Same as: 100 // (2**3) = \", 100 * (2**3))"
   ]
  },
  {
   "cell_type": "code",
   "execution_count": 25,
   "id": "40873093",
   "metadata": {},
   "outputs": [
    {
     "name": "stdout",
     "output_type": "stream",
     "text": [
      "Binary Bitwise operators:     |   &   ^\n"
     ]
    }
   ],
   "source": [
    "print (\"Binary Bitwise operators:     |   &   ^\")"
   ]
  },
  {
   "cell_type": "code",
   "execution_count": 27,
   "id": "ece37a49",
   "metadata": {},
   "outputs": [
    {
     "name": "stdout",
     "output_type": "stream",
     "text": [
      "3 | 0 =  3\n"
     ]
    }
   ],
   "source": [
    "print (\"3 | 0 = \", 3 | 0)"
   ]
  },
  {
   "cell_type": "code",
   "execution_count": 28,
   "id": "c46db909",
   "metadata": {},
   "outputs": [
    {
     "name": "stdout",
     "output_type": "stream",
     "text": [
      "3 ^ 0 =  3\n"
     ]
    }
   ],
   "source": [
    "print (\"3 ^ 0 = \", 3 ^ 0)"
   ]
  },
  {
   "cell_type": "code",
   "execution_count": 29,
   "id": "a14def8e",
   "metadata": {},
   "outputs": [
    {
     "name": "stdout",
     "output_type": "stream",
     "text": [
      "3 & 0 =  0\n"
     ]
    }
   ],
   "source": [
    "print (\"3 & 0 = \", 3 & 0)"
   ]
  },
  {
   "cell_type": "code",
   "execution_count": 30,
   "id": "16766e89",
   "metadata": {},
   "outputs": [
    {
     "name": "stdout",
     "output_type": "stream",
     "text": [
      "Comparisons:  >   >=   <   <=    ==    in    not   in\n"
     ]
    }
   ],
   "source": [
    "print (\"Comparisons:  >   >=   <   <=    ==    in    not   in\")"
   ]
  },
  {
   "cell_type": "code",
   "execution_count": 32,
   "id": "ab59535f",
   "metadata": {},
   "outputs": [
    {
     "name": "stdout",
     "output_type": "stream",
     "text": [
      "5 > 2? True\n"
     ]
    }
   ],
   "source": [
    "print (\"5 > 2?\", 5 > 2)"
   ]
  },
  {
   "cell_type": "code",
   "execution_count": 33,
   "id": "8495a61e",
   "metadata": {},
   "outputs": [
    {
     "name": "stdout",
     "output_type": "stream",
     "text": [
      "5 == 3? False\n"
     ]
    }
   ],
   "source": [
    "print (\"5 == 3?\", 5 == 3)"
   ]
  },
  {
   "cell_type": "code",
   "execution_count": 34,
   "id": "8aea8e69",
   "metadata": {},
   "outputs": [
    {
     "name": "stdout",
     "output_type": "stream",
     "text": [
      "5 <= 4? False\n"
     ]
    }
   ],
   "source": [
    "print (\"5 <= 4?\", 5 <= 4)"
   ]
  },
  {
   "cell_type": "code",
   "execution_count": 35,
   "id": "a59af1e9",
   "metadata": {},
   "outputs": [
    {
     "name": "stdout",
     "output_type": "stream",
     "text": [
      "2 in (1, 2, 3)? True\n"
     ]
    }
   ],
   "source": [
    "print (\"2 in (1, 2, 3)?\", 2 in (1, 2, 3))"
   ]
  },
  {
   "cell_type": "code",
   "execution_count": 36,
   "id": "16f35220",
   "metadata": {},
   "outputs": [
    {
     "name": "stdout",
     "output_type": "stream",
     "text": [
      "5 not in (1, 2, 3)? True\n"
     ]
    }
   ],
   "source": [
    "print (\"5 not in (1, 2, 3)?\", 5 not in (1, 2, 3))"
   ]
  },
  {
   "cell_type": "code",
   "execution_count": 37,
   "id": "46e07f27",
   "metadata": {},
   "outputs": [
    {
     "name": "stdout",
     "output_type": "stream",
     "text": [
      "Boolean Operators: AND    OR    NOT\n"
     ]
    }
   ],
   "source": [
    "print (\"Boolean Operators: AND    OR    NOT\")"
   ]
  },
  {
   "cell_type": "code",
   "execution_count": 38,
   "id": "31f64479",
   "metadata": {},
   "outputs": [
    {
     "name": "stdout",
     "output_type": "stream",
     "text": [
      "5 > 2 AND 5 == 2? False\n"
     ]
    }
   ],
   "source": [
    "print (\"5 > 2 AND 5 == 2?\", (5 > 2) and (5 == 2))"
   ]
  },
  {
   "cell_type": "code",
   "execution_count": 39,
   "id": "8322e0dd",
   "metadata": {},
   "outputs": [
    {
     "name": "stdout",
     "output_type": "stream",
     "text": [
      "5 > 2 OR 5 == 2? True\n"
     ]
    }
   ],
   "source": [
    "print (\"5 > 2 OR 5 == 2?\", (5 > 2) or (5 == 2))"
   ]
  },
  {
   "cell_type": "code",
   "execution_count": 40,
   "id": "8ccbb874",
   "metadata": {},
   "outputs": [
    {
     "name": "stdout",
     "output_type": "stream",
     "text": [
      "5 NOT == 2? True\n"
     ]
    }
   ],
   "source": [
    "print (\"5 NOT == 2?\", not (5 == 2))"
   ]
  },
  {
   "cell_type": "code",
   "execution_count": 42,
   "id": "b52b465c",
   "metadata": {},
   "outputs": [
    {
     "name": "stdout",
     "output_type": "stream",
     "text": [
      "Multiple assignments:  0 1\n",
      "RHS exp are evaluated before any assignemnts take place. RHS exp are evaluated from left to right:  1 1\n"
     ]
    }
   ],
   "source": [
    "a, b = 0, 1\n",
    "print (\"Multiple assignments: \", a, b)\n",
    "\n",
    "a, b = b, a + b\n",
    "print (\"RHS exp are evaluated before any assignemnts take place. \\\n",
    "RHS exp are evaluated from left to right: \", a, b)"
   ]
  },
  {
   "cell_type": "code",
   "execution_count": 43,
   "id": "fbb8b668",
   "metadata": {},
   "outputs": [],
   "source": [
    "import math"
   ]
  },
  {
   "cell_type": "code",
   "execution_count": 44,
   "id": "a2246345",
   "metadata": {},
   "outputs": [],
   "source": [
    "var1 = 2\n",
    "var2 = 3"
   ]
  },
  {
   "cell_type": "code",
   "execution_count": 45,
   "id": "fa6679ab",
   "metadata": {},
   "outputs": [
    {
     "name": "stdout",
     "output_type": "stream",
     "text": [
      "1\n"
     ]
    }
   ],
   "source": [
    "print (round(var1/var2))"
   ]
  },
  {
   "cell_type": "code",
   "execution_count": 46,
   "id": "39021e9c",
   "metadata": {},
   "outputs": [
    {
     "name": "stdout",
     "output_type": "stream",
     "text": [
      "0\n"
     ]
    }
   ],
   "source": [
    "print (math.floor(var1/var2))"
   ]
  },
  {
   "cell_type": "code",
   "execution_count": 47,
   "id": "98a0c661",
   "metadata": {},
   "outputs": [
    {
     "name": "stdout",
     "output_type": "stream",
     "text": [
      "1\n"
     ]
    }
   ],
   "source": [
    "print (math.ceil(var1/var2))"
   ]
  },
  {
   "cell_type": "code",
   "execution_count": 49,
   "id": "7409293c",
   "metadata": {},
   "outputs": [
    {
     "name": "stdout",
     "output_type": "stream",
     "text": [
      "8\n"
     ]
    }
   ],
   "source": [
    "print (pow(var1, var2))"
   ]
  },
  {
   "cell_type": "code",
   "execution_count": 50,
   "id": "92001cc4",
   "metadata": {},
   "outputs": [
    {
     "name": "stdout",
     "output_type": "stream",
     "text": [
      "1\n"
     ]
    }
   ],
   "source": [
    "print (abs(var1 - var2))"
   ]
  },
  {
   "cell_type": "code",
   "execution_count": 51,
   "id": "1d98af22",
   "metadata": {},
   "outputs": [
    {
     "name": "stdout",
     "output_type": "stream",
     "text": [
      "1.4142135623730951\n"
     ]
    }
   ],
   "source": [
    "print (math.sqrt(var1))"
   ]
  },
  {
   "cell_type": "code",
   "execution_count": 53,
   "id": "1a6ccf24",
   "metadata": {},
   "outputs": [
    {
     "name": "stdout",
     "output_type": "stream",
     "text": [
      "5.0 space 9\n"
     ]
    }
   ],
   "source": [
    "#test\n",
    "\n",
    "var1 = 5\n",
    "var2 = 2\n",
    "var3 = 2\n",
    "\n",
    "var4 = math.sqrt(pow(var1, var2))\n",
    "\n",
    "var5 = pow(var1 - var2, var3)\n",
    "\n",
    "print (var4,\"space\", var5)"
   ]
  }
 ],
 "metadata": {
  "kernelspec": {
   "display_name": "Python 3 (ipykernel)",
   "language": "python",
   "name": "python3"
  },
  "language_info": {
   "codemirror_mode": {
    "name": "ipython",
    "version": 3
   },
   "file_extension": ".py",
   "mimetype": "text/x-python",
   "name": "python",
   "nbconvert_exporter": "python",
   "pygments_lexer": "ipython3",
   "version": "3.8.9"
  }
 },
 "nbformat": 4,
 "nbformat_minor": 5
}
