{
 "cells": [
  {
   "cell_type": "code",
   "execution_count": 1,
   "id": "1fa2adb6",
   "metadata": {},
   "outputs": [
    {
     "name": "stdout",
     "output_type": "stream",
     "text": [
      "P\n",
      "y\n",
      "t\n",
      "h\n",
      "o\n",
      "n\n",
      "\n"
     ]
    }
   ],
   "source": [
    "word = \"Python\"\n",
    "print (word[0])\n",
    "print (word[1])\n",
    "print (word[2])\n",
    "print (word[3])\n",
    "print (word[4])\n",
    "print (word[5])\n",
    "print()"
   ]
  },
  {
   "cell_type": "code",
   "execution_count": 2,
   "id": "ad97accc",
   "metadata": {},
   "outputs": [
    {
     "name": "stdout",
     "output_type": "stream",
     "text": [
      "n\n",
      "o\n",
      "h\n",
      "t\n",
      "y\n",
      "P\n"
     ]
    }
   ],
   "source": [
    "print (word[-1])\n",
    "print (word[-2])\n",
    "print (word[-3])\n",
    "print (word[-4])\n",
    "print (word[-5])\n",
    "print (word[-6])"
   ]
  },
  {
   "cell_type": "code",
   "execution_count": 5,
   "id": "b8a64639",
   "metadata": {},
   "outputs": [
    {
     "name": "stdout",
     "output_type": "stream",
     "text": [
      "Concatenated strings below\n",
      "left string >  < right string\n",
      "CIS509\n"
     ]
    }
   ],
   "source": [
    "print (\"Concatenated strings below\")\n",
    "print (\"left string > \" + \" < right string\")\n",
    "lstr = \"CIS\"\n",
    "rstr = \"509\"\n",
    "lrstr = lstr + rstr\n",
    "print (lrstr)"
   ]
  },
  {
   "cell_type": "code",
   "execution_count": 8,
   "id": "a4ff2461",
   "metadata": {
    "scrolled": true
   },
   "outputs": [
    {
     "name": "stdout",
     "output_type": "stream",
     "text": [
      "Slicing below, right value will always be excluded\n",
      "Py\n",
      "thon\n",
      "thon\n",
      "h\n",
      "\n",
      "hon\n"
     ]
    }
   ],
   "source": [
    "print (\"Slicing below, right value will always be excluded\") \n",
    "print (word[0:2])\n",
    "print (word[2:6])\n",
    "print (word[2:10])\n",
    "print (word[-3:-2])\n",
    "print (word[-3:-6]) #right value should be higher, enabling tracing left to right\n",
    "print (word[-3:6])"
   ]
  },
  {
   "cell_type": "code",
   "execution_count": 11,
   "id": "3cde6c99",
   "metadata": {},
   "outputs": [
    {
     "name": "stdout",
     "output_type": "stream",
     "text": [
      "----------------------------------------------------------------------------------------------------\n"
     ]
    }
   ],
   "source": [
    "print(\"-\"*100)"
   ]
  },
  {
   "cell_type": "code",
   "execution_count": 9,
   "id": "915dc815",
   "metadata": {},
   "outputs": [
    {
     "name": "stdout",
     "output_type": "stream",
     "text": [
      "Py\n",
      "on\n",
      "on\n",
      "Python\n"
     ]
    }
   ],
   "source": [
    "print (word[:2])\n",
    "print (word[4:])\n",
    "print (word[-2:])\n",
    "print (word[:4] + word[4:])"
   ]
  },
  {
   "cell_type": "code",
   "execution_count": 12,
   "id": "45724211",
   "metadata": {},
   "outputs": [
    {
     "name": "stdout",
     "output_type": "stream",
     "text": [
      "----------------------------------------------------------------------------------------------------\n"
     ]
    }
   ],
   "source": [
    "print(\"-\"*100)"
   ]
  },
  {
   "cell_type": "code",
   "execution_count": 13,
   "id": "c9c18066",
   "metadata": {},
   "outputs": [
    {
     "name": "stdout",
     "output_type": "stream",
     "text": [
      "Strings are immutable => changes can't be made within a string. So, we create a new one\n",
      "Jython\n"
     ]
    }
   ],
   "source": [
    "print (\"Strings are immutable => changes can't be made within a string. So, we create a new one\")\n",
    "newword = 'J' + word[1:]\n",
    "print (newword)"
   ]
  },
  {
   "cell_type": "code",
   "execution_count": 14,
   "id": "cfc3d84e",
   "metadata": {},
   "outputs": [
    {
     "name": "stdout",
     "output_type": "stream",
     "text": [
      "6\n",
      "True\n",
      "2\n",
      "True\n",
      "False\n",
      "python\n",
      "PYTHON\n",
      "p y t h o n\n",
      "['1', ' 2', ' 3', ' 4', ' 5']\n",
      "john,jane,sandra,mike,scott\n"
     ]
    }
   ],
   "source": [
    "# length of string\n",
    "print (len('Python'))\n",
    "\n",
    "# check if substring is in string\n",
    "print ('th' in 'Python')\n",
    "\n",
    "# find index of substring in string\n",
    "print ('Python'.find('th'))\n",
    "\n",
    "# check if string start with substring\n",
    "print ('Python'.startswith('Py'))\n",
    "\n",
    "# check if string ends with substring\n",
    "print ('Python'.endswith('Py'))\n",
    "\n",
    "# convert string to lowercase\n",
    "print ('PYTHON'.lower())\n",
    "\n",
    "# convert string to upppercase\n",
    "print ('python'.upper())\n",
    "\n",
    "# remove leading and trailing blanks\n",
    "print (' p y t h o n '.strip())\n",
    "\n",
    "# split string using specified character as delimiter\n",
    "print ('1, 2, 3, 4, 5'.split(','))\n",
    "\n",
    "# join iterable elements with specified character as delimiter\n",
    "names = ['john', 'jane', 'sandra', 'mike', 'scott']\n",
    "sep = ','\n",
    "print (sep.join(names))"
   ]
  },
  {
   "cell_type": "code",
   "execution_count": 16,
   "id": "adce95ec",
   "metadata": {},
   "outputs": [
    {
     "name": "stdout",
     "output_type": "stream",
     "text": [
      "['there ', ' are ', ' four ', ' lines']\n"
     ]
    }
   ],
   "source": [
    "# split string at line feeds and carriage returns\n",
    "print ('there \\n are \\n four \\n lines'.splitlines())"
   ]
  },
  {
   "cell_type": "code",
   "execution_count": 19,
   "id": "e19a417c",
   "metadata": {},
   "outputs": [
    {
     "name": "stdout",
     "output_type": "stream",
     "text": [
      "----------------------------------------------------------------------------------------------------\n",
      "\n",
      " Testing\n"
     ]
    }
   ],
   "source": [
    "print (\"-\"*100)\n",
    "print (\"\\n Testing\")"
   ]
  },
  {
   "cell_type": "code",
   "execution_count": 20,
   "id": "5f9d7f0b",
   "metadata": {},
   "outputs": [
    {
     "name": "stdout",
     "output_type": "stream",
     "text": [
      "17\n",
      "CIS 509\n",
      "CIS 509 Classroom\n",
      "CIS 509 Classroom\n",
      "\n",
      "Classroom\n"
     ]
    }
   ],
   "source": [
    "# test\n",
    "myWord = \"CIS 509 Classroom\"\n",
    "print (len(myWord))\n",
    "print (myWord[0:7])\n",
    "print (myWord[:6] + myWord[6:])\n",
    "print (myWord[:100])\n",
    "print (myWord[100:-5])\n",
    "print (myWord[-9:100])"
   ]
  }
 ],
 "metadata": {
  "kernelspec": {
   "display_name": "Python 3 (ipykernel)",
   "language": "python",
   "name": "python3"
  },
  "language_info": {
   "codemirror_mode": {
    "name": "ipython",
    "version": 3
   },
   "file_extension": ".py",
   "mimetype": "text/x-python",
   "name": "python",
   "nbconvert_exporter": "python",
   "pygments_lexer": "ipython3",
   "version": "3.8.9"
  }
 },
 "nbformat": 4,
 "nbformat_minor": 5
}
