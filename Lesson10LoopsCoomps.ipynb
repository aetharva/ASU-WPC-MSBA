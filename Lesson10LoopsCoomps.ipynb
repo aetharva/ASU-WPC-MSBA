{
 "cells": [
  {
   "cell_type": "code",
   "execution_count": 1,
   "id": "c7b687df",
   "metadata": {},
   "outputs": [
    {
     "name": "stdout",
     "output_type": "stream",
     "text": [
      "jack 90\n",
      "jill 100\n",
      "joseph 99\n",
      "natasha 95\n",
      "eric 100\n",
      "audrey 90\n"
     ]
    }
   ],
   "source": [
    "# Looping Techniques for the different data structures\n",
    "# When looping through dictionaries, the key and corresponding value\n",
    "# can be retrieved at the same time using the items() method.\n",
    "grades = {'jack':90, 'jill':100, 'joseph':99, 'natasha':95, 'eric':100, 'audrey':90}\n",
    "for k, v in grades.items():\n",
    " print (k, v)"
   ]
  },
  {
   "cell_type": "code",
   "execution_count": 2,
   "id": "e711bab9",
   "metadata": {
    "scrolled": true
   },
   "outputs": [
    {
     "name": "stdout",
     "output_type": "stream",
     "text": [
      "0 90\n",
      "1 100\n",
      "2 99\n",
      "3 95\n",
      "4 100\n",
      "5 90\n"
     ]
    }
   ],
   "source": [
    "# When looping through a sequence, the position index and corresponding value\n",
    "# can be retrieved at the same time using the enumerate() function.\n",
    "points = [90, 100, 99, 95, 100, 90]\n",
    "for i, v in enumerate(points):\n",
    " print (i, v)"
   ]
  },
  {
   "cell_type": "code",
   "execution_count": 3,
   "id": "2d5c8eea",
   "metadata": {},
   "outputs": [
    {
     "name": "stdout",
     "output_type": "stream",
     "text": [
      "jack 90\n",
      "jill 100\n",
      "joseph 99\n",
      "natasha 95\n",
      "eric 100\n",
      "audrey 90\n"
     ]
    }
   ],
   "source": [
    "names = ['jack', 'jill', 'joseph', 'natasha', 'eric', 'audrey']\n",
    "points = [90, 100, 99, 95, 100, 90]\n",
    "for n, p in zip(names, points):\n",
    " print(n, p)"
   ]
  },
  {
   "cell_type": "code",
   "execution_count": 4,
   "id": "7d014f45",
   "metadata": {},
   "outputs": [
    {
     "name": "stdout",
     "output_type": "stream",
     "text": [
      "audrey\n",
      "eric\n",
      "jack\n",
      "jill\n",
      "joseph\n",
      "natasha\n",
      "\n"
     ]
    }
   ],
   "source": [
    "# To loop over a sequence in sorted order, use the sorted() function\n",
    "# which returns a new sorted list while leaving the source unaltered.\n",
    "for x in sorted(grades.keys()):\n",
    " print (x)\n",
    "print ()"
   ]
  },
  {
   "cell_type": "code",
   "execution_count": 5,
   "id": "1bd98653",
   "metadata": {},
   "outputs": [
    {
     "name": "stdout",
     "output_type": "stream",
     "text": [
      "natasha\n",
      "joseph\n",
      "jill\n",
      "jack\n",
      "eric\n",
      "audrey\n",
      "\n"
     ]
    }
   ],
   "source": [
    "# To loop over a sequence in reverse, first specify the sequence\n",
    "# in a forward direction and then call the reversed() function.\n",
    "for x in reversed(sorted(grades.keys())):\n",
    " print (x)\n",
    "print ()"
   ]
  },
  {
   "cell_type": "code",
   "execution_count": 6,
   "id": "e7be3da2",
   "metadata": {},
   "outputs": [],
   "source": [
    "# Comparing Sequences and other types.\n",
    "#\n",
    "# Sequence objects may be compared to other objects with the same sequence type.\n",
    "# The comparison uses lexicographical ordering: first the first two items are\n",
    "# compared, and if they differ this determines the outcome of the comparison;\n",
    "# if they are equal, the next two items are compared, and so on, until either\n",
    "# sequence is exhausted. If two items to be compared are themselves sequences\n",
    "# of the same type, the lexicographical comparison is carried out recursively.\n",
    "# If all items of two sequences compare equal, the sequences are considered equal.\n",
    "#\n",
    "# Note that comparing objects of different types with < or > is legal provided\n",
    "# that the objects have appropriate comparison methods. For example,\n",
    "# mixed numeric types are compared according to their numeric value,\n",
    "# so 0 equals 0.0, etc. Otherwise, rather than providing an arbitrary ordering,\n",
    "# the interpreter will raise a TypeError exception.\n",
    "# all of these evaluate to true"
   ]
  },
  {
   "cell_type": "code",
   "execution_count": 7,
   "id": "afb7ba6c",
   "metadata": {},
   "outputs": [
    {
     "name": "stdout",
     "output_type": "stream",
     "text": [
      "True\n",
      "True\n",
      "True\n",
      "True\n",
      "True\n",
      "True\n",
      "True\n"
     ]
    }
   ],
   "source": [
    "print ((1, 2, 3) < (1, 2, 4))\n",
    "print ([1, 2, 3] < [1, 2, 4])\n",
    "print ('ABC' < 'C' < 'Pascal' < 'Python')\n",
    "print ((1, 2, 3, 4) < (1, 2, 4))\n",
    "print ((1, 2) < (1, 2, -1))\n",
    "print ((1, 2, 3) == (1.0, 2.0, 3.0))\n",
    "print ((1, 2, ('aa', 'ab')) < (1, 2, ('abc', 'a'), 4))"
   ]
  },
  {
   "cell_type": "code",
   "execution_count": 12,
   "id": "9faf530c",
   "metadata": {},
   "outputs": [
    {
     "ename": "ValueError",
     "evalue": "too many values to unpack (expected 2)",
     "output_type": "error",
     "traceback": [
      "\u001b[0;31m---------------------------------------------------------------------------\u001b[0m",
      "\u001b[0;31mValueError\u001b[0m                                Traceback (most recent call last)",
      "Input \u001b[0;32mIn [12]\u001b[0m, in \u001b[0;36m<cell line: 3>\u001b[0;34m()\u001b[0m\n\u001b[1;32m      1\u001b[0m \u001b[38;5;66;03m# test\u001b[39;00m\n\u001b[1;32m      2\u001b[0m ratings \u001b[38;5;241m=\u001b[39m {\u001b[38;5;124m'\u001b[39m\u001b[38;5;124meverest\u001b[39m\u001b[38;5;124m'\u001b[39m:\u001b[38;5;241m5\u001b[39m, \u001b[38;5;124m'\u001b[39m\u001b[38;5;124mminions\u001b[39m\u001b[38;5;124m'\u001b[39m:\u001b[38;5;241m3\u001b[39m, \u001b[38;5;124m'\u001b[39m\u001b[38;5;124mbig\u001b[39m\u001b[38;5;124m'\u001b[39m:\u001b[38;5;241m4\u001b[39m}\n\u001b[0;32m----> 3\u001b[0m \u001b[38;5;28;01mfor\u001b[39;00m k, v \u001b[38;5;129;01min\u001b[39;00m ratings: \u001b[38;5;66;03m#ratings.items()\u001b[39;00m\n\u001b[1;32m      4\u001b[0m  \u001b[38;5;28mprint\u001b[39m (k, v)\n",
      "\u001b[0;31mValueError\u001b[0m: too many values to unpack (expected 2)"
     ]
    }
   ],
   "source": [
    "# test\n",
    "ratings = {'everest':5, 'minions':3, 'big':4}\n",
    "for k, v in ratings: #ratings.items()\n",
    " print (k, v)"
   ]
  },
  {
   "cell_type": "code",
   "execution_count": 13,
   "id": "bf42082d",
   "metadata": {},
   "outputs": [
    {
     "ename": "TypeError",
     "evalue": "cannot unpack non-iterable int object",
     "output_type": "error",
     "traceback": [
      "\u001b[0;31m---------------------------------------------------------------------------\u001b[0m",
      "\u001b[0;31mTypeError\u001b[0m                                 Traceback (most recent call last)",
      "Input \u001b[0;32mIn [13]\u001b[0m, in \u001b[0;36m<cell line: 2>\u001b[0;34m()\u001b[0m\n\u001b[1;32m      1\u001b[0m scores \u001b[38;5;241m=\u001b[39m [\u001b[38;5;241m9\u001b[39m, \u001b[38;5;241m10\u001b[39m, \u001b[38;5;241m8\u001b[39m, \u001b[38;5;241m5\u001b[39m, \u001b[38;5;241m10\u001b[39m, \u001b[38;5;241m6\u001b[39m]\n\u001b[0;32m----> 2\u001b[0m \u001b[38;5;28;01mfor\u001b[39;00m i, v \u001b[38;5;129;01min\u001b[39;00m scores: \u001b[38;5;66;03m#enumerate(scores)\u001b[39;00m\n\u001b[1;32m      3\u001b[0m  \u001b[38;5;28mprint\u001b[39m (i, v)\n",
      "\u001b[0;31mTypeError\u001b[0m: cannot unpack non-iterable int object"
     ]
    }
   ],
   "source": [
    "scores = [9, 10, 8, 5, 10, 6]\n",
    "for i, v in scores: #enumerate(scores)\n",
    " print (i, v)"
   ]
  },
  {
   "cell_type": "code",
   "execution_count": 14,
   "id": "2ce8d403",
   "metadata": {},
   "outputs": [
    {
     "name": "stdout",
     "output_type": "stream",
     "text": [
      "big\n",
      "minions\n",
      "everest\n"
     ]
    }
   ],
   "source": [
    "ratings = {'everest':5, 'minions':3, 'big':4}\n",
    "for x in reversed(ratings.keys()):\n",
    " print (x)"
   ]
  }
 ],
 "metadata": {
  "kernelspec": {
   "display_name": "Python 3 (ipykernel)",
   "language": "python",
   "name": "python3"
  },
  "language_info": {
   "codemirror_mode": {
    "name": "ipython",
    "version": 3
   },
   "file_extension": ".py",
   "mimetype": "text/x-python",
   "name": "python",
   "nbconvert_exporter": "python",
   "pygments_lexer": "ipython3",
   "version": "3.8.9"
  }
 },
 "nbformat": 4,
 "nbformat_minor": 5
}
