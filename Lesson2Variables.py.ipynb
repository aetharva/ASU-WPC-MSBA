{
 "cells": [
  {
   "cell_type": "code",
   "execution_count": 5,
   "id": "3bf0a5d8",
   "metadata": {},
   "outputs": [
    {
     "name": "stdout",
     "output_type": "stream",
     "text": [
      "\n"
     ]
    }
   ],
   "source": [
    "print()\n",
    "\n",
    "distance_travelled_mi = 100\n",
    "\n",
    "time_taken_min = 1200\n",
    "\n",
    "time_taken_hr = time_taken_min/60"
   ]
  },
  {
   "cell_type": "code",
   "execution_count": 6,
   "id": "94c94d8e",
   "metadata": {},
   "outputs": [
    {
     "name": "stdout",
     "output_type": "stream",
     "text": [
      "Number of miles travelled 100\n",
      "Number of hours travelled 20.0\n",
      "Speed in mph 5.0\n"
     ]
    }
   ],
   "source": [
    "print (\"Number of miles travelled\", distance_travelled_mi)\n",
    "print (\"Number of hours travelled\", time_taken_hr)\n",
    "print (\"Speed in mph\", distance_travelled_mi / time_taken_hr)"
   ]
  },
  {
   "cell_type": "code",
   "execution_count": 7,
   "id": "7e51ed95",
   "metadata": {},
   "outputs": [
    {
     "ename": "SyntaxError",
     "evalue": "invalid syntax (1970531520.py, line 7)",
     "output_type": "error",
     "traceback": [
      "\u001b[0;36m  Input \u001b[0;32mIn [7]\u001b[0;36m\u001b[0m\n\u001b[0;31m    _total% = 25\u001b[0m\n\u001b[0m            ^\u001b[0m\n\u001b[0;31mSyntaxError\u001b[0m\u001b[0;31m:\u001b[0m invalid syntax\n"
     ]
    }
   ],
   "source": [
    "#test variables below"
   ]
  },
  {
   "cell_type": "code",
   "execution_count": 8,
   "id": "4c583dd6",
   "metadata": {},
   "outputs": [
    {
     "ename": "NameError",
     "evalue": "name 'Time_Taken_min' is not defined",
     "output_type": "error",
     "traceback": [
      "\u001b[0;31m---------------------------------------------------------------------------\u001b[0m",
      "\u001b[0;31mNameError\u001b[0m                                 Traceback (most recent call last)",
      "Input \u001b[0;32mIn [8]\u001b[0m, in \u001b[0;36m<cell line: 1>\u001b[0;34m()\u001b[0m\n\u001b[0;32m----> 1\u001b[0m \u001b[38;5;28mprint\u001b[39m(\u001b[38;5;124m\"\u001b[39m\u001b[38;5;124mTime taken in minutes\u001b[39m\u001b[38;5;124m\"\u001b[39m, \u001b[43mTime_Taken_min\u001b[49m)\n",
      "\u001b[0;31mNameError\u001b[0m: name 'Time_Taken_min' is not defined"
     ]
    }
   ],
   "source": [
    "print(\"Time taken in minutes\", Time_Taken_min)"
   ]
  },
  {
   "cell_type": "code",
   "execution_count": 11,
   "id": "1fe45e09",
   "metadata": {},
   "outputs": [],
   "source": [
    "_total_memory = 0"
   ]
  },
  {
   "cell_type": "code",
   "execution_count": 12,
   "id": "92cf1f5b",
   "metadata": {},
   "outputs": [
    {
     "ename": "SyntaxError",
     "evalue": "invalid syntax (2283341130.py, line 1)",
     "output_type": "error",
     "traceback": [
      "\u001b[0;36m  Input \u001b[0;32mIn [12]\u001b[0;36m\u001b[0m\n\u001b[0;31m    _total% = 25\u001b[0m\n\u001b[0m            ^\u001b[0m\n\u001b[0;31mSyntaxError\u001b[0m\u001b[0;31m:\u001b[0m invalid syntax\n"
     ]
    }
   ],
   "source": [
    "_total% = 25"
   ]
  },
  {
   "cell_type": "code",
   "execution_count": 13,
   "id": "af4e2ec5",
   "metadata": {},
   "outputs": [],
   "source": [
    "totalPercentage = 10"
   ]
  },
  {
   "cell_type": "code",
   "execution_count": 14,
   "id": "c4e277d5",
   "metadata": {},
   "outputs": [
    {
     "ename": "SyntaxError",
     "evalue": "invalid syntax (1479374074.py, line 1)",
     "output_type": "error",
     "traceback": [
      "\u001b[0;36m  Input \u001b[0;32mIn [14]\u001b[0;36m\u001b[0m\n\u001b[0;31m    1stPass = 3\u001b[0m\n\u001b[0m     ^\u001b[0m\n\u001b[0;31mSyntaxError\u001b[0m\u001b[0;31m:\u001b[0m invalid syntax\n"
     ]
    }
   ],
   "source": [
    "1stPass = 3"
   ]
  },
  {
   "cell_type": "code",
   "execution_count": 15,
   "id": "be909ec0",
   "metadata": {},
   "outputs": [],
   "source": [
    "myName = \"Atharva\""
   ]
  },
  {
   "cell_type": "code",
   "execution_count": 16,
   "id": "adf89ead",
   "metadata": {},
   "outputs": [
    {
     "ename": "SyntaxError",
     "evalue": "invalid syntax (1772569639.py, line 1)",
     "output_type": "error",
     "traceback": [
      "\u001b[0;36m  Input \u001b[0;32mIn [16]\u001b[0;36m\u001b[0m\n\u001b[0;31m    class = \"CIS 415\"\u001b[0m\n\u001b[0m          ^\u001b[0m\n\u001b[0;31mSyntaxError\u001b[0m\u001b[0;31m:\u001b[0m invalid syntax\n"
     ]
    }
   ],
   "source": [
    "class = \"CIS 415\""
   ]
  },
  {
   "cell_type": "code",
   "execution_count": 17,
   "id": "9a06d4e7",
   "metadata": {},
   "outputs": [],
   "source": [
    "fruits = \"Apples and Oranges\""
   ]
  },
  {
   "cell_type": "code",
   "execution_count": 19,
   "id": "77854fd9",
   "metadata": {},
   "outputs": [],
   "source": [
    "numApples = 10"
   ]
  },
  {
   "cell_type": "code",
   "execution_count": 20,
   "id": "1aea4121",
   "metadata": {},
   "outputs": [],
   "source": [
    "numOranges = 20"
   ]
  },
  {
   "cell_type": "code",
   "execution_count": 21,
   "id": "007f5330",
   "metadata": {},
   "outputs": [
    {
     "name": "stdout",
     "output_type": "stream",
     "text": [
      "I have Apples and Oranges ... I have 10 Apples and 20 Oranges\n"
     ]
    }
   ],
   "source": [
    "print (\"I have\", fruits, \"... I have\", numApples, \"Apples and\", numOranges, \"Oranges\")"
   ]
  }
 ],
 "metadata": {
  "kernelspec": {
   "display_name": "Python 3 (ipykernel)",
   "language": "python",
   "name": "python3"
  },
  "language_info": {
   "codemirror_mode": {
    "name": "ipython",
    "version": 3
   },
   "file_extension": ".py",
   "mimetype": "text/x-python",
   "name": "python",
   "nbconvert_exporter": "python",
   "pygments_lexer": "ipython3",
   "version": "3.8.9"
  }
 },
 "nbformat": 4,
 "nbformat_minor": 5
}
