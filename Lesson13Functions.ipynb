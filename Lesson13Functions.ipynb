{
 "cells": [
  {
   "cell_type": "code",
   "execution_count": 4,
   "id": "32c4f6aa",
   "metadata": {},
   "outputs": [
    {
     "name": "stdout",
     "output_type": "stream",
     "text": [
      "This function returns the Fibonacci Series.\n",
      "[1, 1, 2, 3, 5, 8, 13, 21, 34, 55]\n"
     ]
    }
   ],
   "source": [
    "# The keyword 'def' introduces a function definition.\n",
    "# It must be followed by the function name and the parenthesized list of formal\n",
    "# parameters.\n",
    "# The statements that form the body of the function start at the next line,\n",
    "# and must be indented.\n",
    "\n",
    "def fib (n):\n",
    "    \n",
    " # The first statement of the function body can optionally be a fucntion's\n",
    " # documentation string or docstring that summarizes what the function does\n",
    " \"\"\"This function returns the Fibonacci Series.\"\"\"\n",
    " result = []\n",
    " a, b = 0, 1\n",
    " for i in range(n):\n",
    "  result.append(b)\n",
    "  a, b = b, a+b\n",
    " return result\n",
    "# print Document String\n",
    "print (fib.__doc__)\n",
    "# call function with arguments\n",
    "print(fib(10))"
   ]
  },
  {
   "cell_type": "code",
   "execution_count": 5,
   "id": "8c8794f9",
   "metadata": {},
   "outputs": [
    {
     "name": "stdout",
     "output_type": "stream",
     "text": [
      "old value\n",
      "new value\n",
      "old value\n"
     ]
    }
   ],
   "source": [
    "# Parameters versus Arguments:\n",
    "# - Parameters are the variables in the function\n",
    "# (function fib(n) has parameter n)\n",
    "# - Arguments are the values given to the variables at the point of call\n",
    "# (function call fib(10) has argument 10)\n",
    "# - So outside the function, it is more common to talk about arguments.\n",
    "# Inside the function, you can really talk about either.\n",
    "#######################################\n",
    "# Let's understand how function calls work in Python in terms of\n",
    "# Objects, Bindings, and Scope\n",
    "# Python is neither \"call-by-reference\" nor \"call-by-value\".\n",
    "# In Python a variable is not an alias for a location in memory.\n",
    "# Rather, it is simply a binding to a Python object.\n",
    "# If I call foo(bar), I'm merely creating a binding within the scope of foo\n",
    "# to the object that the argument bar is bound to when the function is called.\n",
    "# If bar refers to an immutable object, the most that foo can do is create\n",
    "\n",
    "# a name bar in its local namespace and bind it to some other object.\n",
    "def foo (bar):\n",
    "\n",
    " # (2) The Local Name bar is Bound to String Object 'old value'\n",
    " print (bar)\n",
    "\n",
    " # (3) The Local Name bar is now Bound to String Object 'new value'\n",
    " # (and no longer bound to String Object 'old value')\n",
    " bar = 'new value'\n",
    " print (bar)\n",
    "\n",
    "\n",
    "# (1) The Name answer is Bound to the String Object 'old value'\n",
    "answer = 'old value'\n",
    "foo (answer)\n",
    "# (4) The Name answer is still Bound to String Object 'old value'\n",
    "print (answer)"
   ]
  },
  {
   "cell_type": "code",
   "execution_count": 6,
   "id": "4f00e09a",
   "metadata": {},
   "outputs": [
    {
     "name": "stdout",
     "output_type": "stream",
     "text": [
      "[]\n",
      "[42]\n",
      "[42]\n"
     ]
    }
   ],
   "source": [
    "# If bar refers to a mutable object and foo changes its value,\n",
    "# then these changes will be visible outside of the scope of the function.\n",
    "def foo (bar):\n",
    "\n",
    " # (2) The Local Name bar is also now Bound to the List Object created\n",
    " print (bar)\n",
    "\n",
    " # (3) The 0th Element of the List Object created now contains the Int Object 42\n",
    " bar.append(42)\n",
    " print (bar)\n",
    "# (1) The Name answer_list is Bound to the List Object []\n",
    "answer_list = []\n",
    "# (4) The Name answer_list is still Bound to the List Object\n",
    "# and reflects the changes made to it in the function call\n",
    "foo (answer_list)\n",
    "print (answer_list)"
   ]
  },
  {
   "cell_type": "code",
   "execution_count": 7,
   "id": "63c78863",
   "metadata": {},
   "outputs": [
    {
     "name": "stdout",
     "output_type": "stream",
     "text": [
      "main:  10 20 30\n",
      "demoFunc:  -100 -200 -300\n",
      "main:  10 20 -300\n",
      "main:  15 25 35\n",
      "demoFunc:  -100 -200 -300\n",
      "main:  15 25 -300\n"
     ]
    }
   ],
   "source": [
    "def demoFunc (arg1, arg2):\n",
    "\n",
    " # this will change local values of a1 and a2\n",
    " a1, a2 = -100, -200\n",
    "\n",
    " # this will change global value of a3\n",
    " global a3\n",
    " a3 = -300\n",
    "\n",
    " # this will pick up local copy of a1 and a2, and global copy of a3\n",
    " print (\"demoFunc: \", a1, a2, a3)\n",
    "# decalare global varaibles a1, a2 and a3\n",
    "a1, a2, a3 = 10, 20, 30\n",
    "print (\"main: \", a1, a2, a3)\n",
    "# function call will not change global copy of a1 and a2,\n",
    "# but will change global value of a3\n",
    "demoFunc (a1, a2)\n",
    "print (\"main: \", a1, a2, a3)\n",
    "# this will change global copy of a1, a2 and a3\n",
    "a1, a2, a3 = a1+5, a2+5, 35\n",
    "print (\"main: \", a1, a2, a3)\n",
    "# function call will not change global copy of a1 and a2,\n",
    "# but will change global value of a3\n",
    "demoFunc (a1, a2)\n",
    "print (\"main: \", a1, a2, a3)"
   ]
  },
  {
   "cell_type": "code",
   "execution_count": 9,
   "id": "91d78ef4",
   "metadata": {},
   "outputs": [
    {
     "name": "stdout",
     "output_type": "stream",
     "text": [
      "not found\n",
      "found\n",
      "not found\n"
     ]
    }
   ],
   "source": [
    "# It is possible to define functions with a variable number of arguments.\n",
    "# This can be done in three ways:\n",
    "# (1) Default argument values\n",
    "# (2) Keyword arguments\n",
    "# (3) Arbitrary argument lists\n",
    "# (1) Default Argument Values\n",
    "# You can specify a default value for one or more arguments\n",
    "def isNumberInRange (num, i=25, n=100):\n",
    " if num in range(i, n):\n",
    "  print (\"found\")\n",
    " else:\n",
    "  print (\"not found\")\n",
    "isNumberInRange(20)\n",
    "isNumberInRange(20, 0)\n",
    "isNumberInRange(20, 0, 10)"
   ]
  },
  {
   "cell_type": "code",
   "execution_count": 10,
   "id": "60f7112e",
   "metadata": {},
   "outputs": [
    {
     "name": "stdout",
     "output_type": "stream",
     "text": [
      "[1]\n",
      "[1, 2]\n",
      "[1, 2, 3]\n"
     ]
    }
   ],
   "source": [
    "def lstAppend(a, L = []):\n",
    " L.append(a)\n",
    " return L\n",
    "\n",
    "print (lstAppend(1))\n",
    "print (lstAppend(2))\n",
    "print (lstAppend(3))"
   ]
  },
  {
   "cell_type": "code",
   "execution_count": 13,
   "id": "42a029d9",
   "metadata": {},
   "outputs": [
    {
     "name": "stdout",
     "output_type": "stream",
     "text": [
      "[1]\n",
      "[2]\n",
      "[3]\n",
      "\n"
     ]
    }
   ],
   "source": [
    "# You can override this behavior as follows.\n",
    "# This will print [1] on the first ccall, [2] on the second, and [3] on the third.\n",
    "def lstAppend(a, L = None):\n",
    " if L is None:\n",
    "  L = []\n",
    "  L.append(a)\n",
    "  return L\n",
    "print (lstAppend(1))\n",
    "print (lstAppend(2))\n",
    "print (lstAppend(3))\n",
    "print () "
   ]
  },
  {
   "cell_type": "code",
   "execution_count": 14,
   "id": "199bfd3d",
   "metadata": {},
   "outputs": [
    {
     "name": "stdout",
     "output_type": "stream",
     "text": [
      "1000 0 -1 0\n",
      "10 0 -1 0\n",
      "10 100 -1 0\n",
      "10 100 -1 0\n",
      "10 100 1000 0\n",
      "10 100 -1 0\n"
     ]
    }
   ],
   "source": [
    "# (2) Keyword Arguments\n",
    "# Arguments can be of two kinds:\n",
    "# Keyword Argument:\n",
    "# An argument preceded by an identifier (e.g. name=) in a function call\n",
    "# Postional Argument:\n",
    "# An argument that is not a keyword argument\n",
    "# In a function call, keyword arguments must follow positional arguments.\n",
    "# All the keyword arguments passed must match one of the arguments accepted\n",
    "# by the function, and their order is not important.\n",
    "# No argument may receive a value more than once.\n",
    "def func (arg1, arg2=0, arg3=-1, arg4=0):\n",
    " print (arg1, arg2, arg3, arg4)\n",
    "func (1000) # 1 positional argument\n",
    "func (arg1=10) # 1 keyword argument\n",
    "func (arg1=10, arg2=100) # 2 keyword arguments\n",
    "func (arg2=100, arg1=10) # 2 keyword arguments - order is not important\n",
    "func (10, 100, 1000) # 3 positional arguments\n",
    "func (10, arg2=100) # 1 positional and 1 keyword argument\n",
    "# func (arg4=10, 100) # this will yield non-keyword arg after keyword arg error\n",
    "# func (arg5=10) # this will yield unexpected keyword argument error\n",
    "# func (0, arg1=0) # this will yield multiple values for argument error"
   ]
  },
  {
   "cell_type": "code",
   "execution_count": 15,
   "id": "eddbbb88",
   "metadata": {},
   "outputs": [
    {
     "name": "stdout",
     "output_type": "stream",
     "text": [
      "Positional: ('one', 'two', 'three')\n",
      "Keywords: {}\n",
      "Positional: ()\n",
      "Keywords: {'a': 'one', 'b': 'two', 'c': 'three'}\n",
      "Positional: ('one', 'two')\n",
      "Keywords: {'c': 'three', 'd': 'four'}\n",
      "\n"
     ]
    }
   ],
   "source": [
    "def foo(*positional, **keywords):\n",
    " print (\"Positional:\", positional)\n",
    " print (\"Keywords:\", keywords)\n",
    "# The *positional (tuple) argument will store all of the positional arguments passed\n",
    "# to foo(), with no limit to how many you can provide.\n",
    "foo('one', 'two', 'three')\n",
    "\n",
    "# The **keywords (dictionary) argument will store any keyword arguments:\n",
    "foo(a='one', b='two', c='three')\n",
    "# And of course, you can have both at the same time:\n",
    "foo('one','two',c='three',d='four')\n",
    "print()\n",
    "# (3) Arbitrary Argument Lists\n",
    "# You can also call a function with an arbitrary number of arguments.\n",
    "# These arguments will be wrapped up in a tuple.\n",
    "# Zero or more normal arguments may occur before the variable number of arguments.\n",
    "# Any formal parameters which occur after the *args parameter can only be used\n",
    "# as keyword (and not positional) arguments."
   ]
  },
  {
   "cell_type": "code",
   "execution_count": 16,
   "id": "8cd4602f",
   "metadata": {},
   "outputs": [
    {
     "name": "stdout",
     "output_type": "stream",
     "text": [
      "john/jane\n",
      "john/jane/sandra\n",
      "john,jane,sandra\n"
     ]
    }
   ],
   "source": [
    "def concat (*args, sep='/'):\n",
    " print (sep.join(args))\n",
    "concat ('john', 'jane')\n",
    "concat ('john', 'jane', 'sandra')\n",
    "concat ('john', 'jane', 'sandra', sep=',')"
   ]
  },
  {
   "cell_type": "code",
   "execution_count": 17,
   "id": "e4aba169",
   "metadata": {},
   "outputs": [
    {
     "name": "stdout",
     "output_type": "stream",
     "text": [
      "[]\n",
      "[10, 15]\n",
      "[10, 15, 10, 35]\n"
     ]
    }
   ],
   "source": [
    "# test\n",
    "def func (lst):\n",
    "\n",
    " global a2\n",
    " a1 = 10\n",
    "\n",
    " lst.append(a1)\n",
    " lst.append(a2)\n",
    "myList = []\n",
    "print (myList)\n",
    "a1, a2 = 5, 15\n",
    "func(myList)\n",
    "print (myList)\n",
    "a1, a2 = 25, 35\n",
    "func(myList)\n",
    "print (myList)"
   ]
  },
  {
   "cell_type": "code",
   "execution_count": 18,
   "id": "0c1ac425",
   "metadata": {},
   "outputs": [
    {
     "name": "stdout",
     "output_type": "stream",
     "text": [
      "argNorm1 =  0\n",
      "argNorm2 =  1\n",
      "*argPos =  (2, 3)\n",
      "**argKey =  {'a': 10, 'b': 20, 'c': 30}\n",
      "\n"
     ]
    }
   ],
   "source": [
    "def argListsCheck (argNorm1, argNorm2=10, *argPos, **argKey):\n",
    " print (\"argNorm1 = \", argNorm1)\n",
    " print (\"argNorm2 = \", argNorm2)\n",
    " print (\"*argPos = \", argPos)\n",
    " print (\"**argKey = \", argKey)\n",
    "\n",
    "\n",
    "argListsCheck (0, 1, 2, 3, a=10, b=20, c=30)\n",
    "print ()"
   ]
  }
 ],
 "metadata": {
  "kernelspec": {
   "display_name": "Python 3 (ipykernel)",
   "language": "python",
   "name": "python3"
  },
  "language_info": {
   "codemirror_mode": {
    "name": "ipython",
    "version": 3
   },
   "file_extension": ".py",
   "mimetype": "text/x-python",
   "name": "python",
   "nbconvert_exporter": "python",
   "pygments_lexer": "ipython3",
   "version": "3.9.12"
  }
 },
 "nbformat": 4,
 "nbformat_minor": 5
}
