{
 "cells": [
  {
   "cell_type": "code",
   "execution_count": 1,
   "id": "09ca881e",
   "metadata": {},
   "outputs": [
    {
     "name": "stdout",
     "output_type": "stream",
     "text": [
      "{'pear', 'orange', 'apple', 'banana'}\n",
      "\n"
     ]
    }
   ],
   "source": [
    "# A set is an unordered collection with no duplicate elements.\n",
    "# Basic uses include membership testing and eliminating duplicate entries.\n",
    "# Set objects also support mathematical operations like union, intersection,\n",
    "# difference, and symmetric difference.\n",
    "# duplicates will automatically be removed\n",
    "basket = {'apple', 'orange', 'apple', 'pear', 'orange', 'banana'}\n",
    "print (basket)\n",
    "print ()"
   ]
  },
  {
   "cell_type": "code",
   "execution_count": 2,
   "id": "0878783d",
   "metadata": {},
   "outputs": [
    {
     "name": "stdout",
     "output_type": "stream",
     "text": [
      "True\n",
      "\n"
     ]
    }
   ],
   "source": [
    "# test for membership\n",
    "print ('orange' in basket)\n",
    "print ()"
   ]
  },
  {
   "cell_type": "code",
   "execution_count": 3,
   "id": "ed63d5f5",
   "metadata": {},
   "outputs": [
    {
     "name": "stdout",
     "output_type": "stream",
     "text": [
      "{'#', 'f', 's', '4', '&', 'b', 'a', '3', '^', '5', 'd', '$', '%', '2'}\n",
      "\n"
     ]
    }
   ],
   "source": [
    "# another way to declare single character sets\n",
    "someChars = set ('235345#$$%^$%&abdfsdf')\n",
    "print (someChars)\n",
    "print ()"
   ]
  },
  {
   "cell_type": "code",
   "execution_count": 4,
   "id": "26c1a98e",
   "metadata": {},
   "outputs": [
    {
     "name": "stdout",
     "output_type": "stream",
     "text": [
      "set1:  {'r', 'b', 'a', 'd', 'c'}\n",
      "set2:  {'m', 'l', 'z', 'a', 'c'}\n"
     ]
    }
   ],
   "source": [
    "# set operations\n",
    "set1 = set ('abracadabra')\n",
    "set2 = set ('alacazam')\n",
    "print (\"set1: \", set1)\n",
    "print (\"set2: \", set2)"
   ]
  },
  {
   "cell_type": "code",
   "execution_count": 5,
   "id": "92594e7c",
   "metadata": {},
   "outputs": [
    {
     "name": "stdout",
     "output_type": "stream",
     "text": [
      "set1 | set2:  {'m', 'l', 'r', 'b', 'z', 'a', 'd', 'c'}\n"
     ]
    }
   ],
   "source": [
    "# union\n",
    "print (\"set1 | set2: \", set1 | set2)"
   ]
  },
  {
   "cell_type": "code",
   "execution_count": 6,
   "id": "fdfcdd13",
   "metadata": {},
   "outputs": [
    {
     "name": "stdout",
     "output_type": "stream",
     "text": [
      "set1 & set2:  {'a', 'c'}\n"
     ]
    }
   ],
   "source": [
    "# intersection\n",
    "print (\"set1 & set2: \", set1 & set2)"
   ]
  },
  {
   "cell_type": "code",
   "execution_count": 7,
   "id": "f83e62c5",
   "metadata": {},
   "outputs": [
    {
     "name": "stdout",
     "output_type": "stream",
     "text": [
      "set1 - set2:  {'b', 'd', 'r'}\n"
     ]
    }
   ],
   "source": [
    "# difference\n",
    "print (\"set1 - set2: \", set1 - set2)"
   ]
  },
  {
   "cell_type": "code",
   "execution_count": 8,
   "id": "f74faa93",
   "metadata": {},
   "outputs": [
    {
     "name": "stdout",
     "output_type": "stream",
     "text": [
      "set1 ^ set2:  {'m', 'l', 'r', 'd', 'b', 'z'}\n"
     ]
    }
   ],
   "source": [
    "# symmetric difference\n",
    "print (\"set1 ^ set2: \", set1 ^ set2)"
   ]
  },
  {
   "cell_type": "code",
   "execution_count": 9,
   "id": "1bf39fe7",
   "metadata": {},
   "outputs": [
    {
     "name": "stdout",
     "output_type": "stream",
     "text": [
      "set()\n",
      "set()\n"
     ]
    }
   ],
   "source": [
    "# test\n",
    "set1 = set ('abracadabra')\n",
    "set2 = set ('alacazam')\n",
    "print ((set1 ^ set2) - ((set1 | set2) - (set1 & set2)))\n",
    "print ((set1 ^ set2) - ((set1 - set2) | (set2 - set1)))"
   ]
  },
  {
   "cell_type": "code",
   "execution_count": 10,
   "id": "ebf93e41",
   "metadata": {},
   "outputs": [
    {
     "name": "stdout",
     "output_type": "stream",
     "text": [
      "{'dog', 'deer', 'cat'}\n"
     ]
    }
   ],
   "source": [
    "set1 = {'dog', 'cat', 'deer'}\n",
    "print (set1)"
   ]
  },
  {
   "cell_type": "code",
   "execution_count": 11,
   "id": "f301f160",
   "metadata": {},
   "outputs": [
    {
     "ename": "TypeError",
     "evalue": "set expected at most 1 argument, got 3",
     "output_type": "error",
     "traceback": [
      "\u001b[0;31m---------------------------------------------------------------------------\u001b[0m",
      "\u001b[0;31mTypeError\u001b[0m                                 Traceback (most recent call last)",
      "Input \u001b[0;32mIn [11]\u001b[0m, in \u001b[0;36m<cell line: 1>\u001b[0;34m()\u001b[0m\n\u001b[0;32m----> 1\u001b[0m set2 \u001b[38;5;241m=\u001b[39m \u001b[38;5;28;43mset\u001b[39;49m\u001b[43m \u001b[49m\u001b[43m(\u001b[49m\u001b[38;5;124;43m'\u001b[39;49m\u001b[38;5;124;43msparrow\u001b[39;49m\u001b[38;5;124;43m'\u001b[39;49m\u001b[43m,\u001b[49m\u001b[43m \u001b[49m\u001b[38;5;124;43m'\u001b[39;49m\u001b[38;5;124;43mhawk\u001b[39;49m\u001b[38;5;124;43m'\u001b[39;49m\u001b[43m,\u001b[49m\u001b[43m \u001b[49m\u001b[38;5;124;43m'\u001b[39;49m\u001b[38;5;124;43meagle\u001b[39;49m\u001b[38;5;124;43m'\u001b[39;49m\u001b[43m)\u001b[49m\n\u001b[1;32m      2\u001b[0m \u001b[38;5;28mprint\u001b[39m (set2)\n",
      "\u001b[0;31mTypeError\u001b[0m: set expected at most 1 argument, got 3"
     ]
    }
   ],
   "source": [
    "set2 = set ('sparrow', 'hawk', 'eagle')\n",
    "print (set2)"
   ]
  },
  {
   "cell_type": "code",
   "execution_count": 12,
   "id": "724b2beb",
   "metadata": {},
   "outputs": [
    {
     "name": "stdout",
     "output_type": "stream",
     "text": [
      "{'b', '1', 'a', '3', '2', 'c'}\n"
     ]
    }
   ],
   "source": [
    "set3 = set ('abc123')\n",
    "print (set3)"
   ]
  },
  {
   "cell_type": "code",
   "execution_count": 13,
   "id": "a3b8e3f4",
   "metadata": {},
   "outputs": [
    {
     "name": "stdout",
     "output_type": "stream",
     "text": [
      "{'b', '1', 'a', '3', \"'\", '2', 'c'}\n"
     ]
    }
   ],
   "source": [
    "set4 = set ('\\'abc123\\'')\n",
    "print (set4)"
   ]
  }
 ],
 "metadata": {
  "kernelspec": {
   "display_name": "Python 3 (ipykernel)",
   "language": "python",
   "name": "python3"
  },
  "language_info": {
   "codemirror_mode": {
    "name": "ipython",
    "version": 3
   },
   "file_extension": ".py",
   "mimetype": "text/x-python",
   "name": "python",
   "nbconvert_exporter": "python",
   "pygments_lexer": "ipython3",
   "version": "3.8.9"
  }
 },
 "nbformat": 4,
 "nbformat_minor": 5
}
