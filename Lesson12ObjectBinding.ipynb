{
 "cells": [
  {
   "cell_type": "code",
   "execution_count": 4,
   "id": "ca69aa7e",
   "metadata": {},
   "outputs": [],
   "source": [
    "# In Python, (almost) everything is an object.\n",
    "# There are two kinds of Objects in Python - Mutable and Immutable.\n",
    "# A Mutable Object exhibits time-varying behavior.\n",
    "# Changes to a Mutable Object are visible through all Names Bound to it.\n",
    "# Python's lists are an example of mutable objects.\n",
    "# An Immutable Object does not exhibit time-varying behavior.\n",
    "# The value of Immutable Objects can not be modified after they are created.\n",
    "# They can however be used to compute the values of new objects.\n",
    "# Strings and Integers are examples of immutalbe objects.\n",
    "# list objects are mutable\n",
    "# this is allowed\n",
    "myList = ['Jill', 'Jane', 'Harry']\n",
    "myList[0] = 'Tom'"
   ]
  },
  {
   "cell_type": "code",
   "execution_count": 5,
   "id": "20e8ea48",
   "metadata": {},
   "outputs": [],
   "source": [
    "# string objects are immutable\n",
    "# this is not allowed\n",
    "#myStr = 'Rick'\n",
    "#myStr[0] = 'N'\n",
    "# What we commonly refer to as \"variables\" in Python are more properly called Names.\n",
    "# Likewise, \"assignment\" is really the Binding of a Name to an Object.\n",
    "# Each Binding has a Scope that defines its visibility (usually the Block in which the\n",
    "# Name originates.\n",
    "# Let's look at an example of Names and Object Binding"
   ]
  },
  {
   "cell_type": "code",
   "execution_count": 6,
   "id": "0507d559",
   "metadata": {},
   "outputs": [],
   "source": [
    "# (1) The Name some_guy is Bound to the String Object 'Fred'\n",
    "some_guy = 'Fred'\n",
    "\n",
    "# (2) The Name fisrt_names is Bound to the List Object []\n",
    "first_names = []\n",
    "\n",
    "# (3) The 0th Element of the List Object created above now contains\n",
    "# the String Object 'Fred'\n",
    "first_names.append(some_guy)\n",
    "\n",
    "# (4) The Name another_list_of_names is also now Bound to the List Object created above\n",
    "another_list_of_names = first_names\n",
    "\n",
    "# (5) The 1st Element of the List Object created above now contains\n",
    "# the String Object 'George'\n",
    "another_list_of_names.append('George')\n",
    "\n",
    "# (6) The Name some_guy is now Bound to the String Object 'Bill'\n",
    "# (and not Bound to String Object 'Fred' anymore)\n",
    "some_guy = 'Bill'"
   ]
  },
  {
   "cell_type": "code",
   "execution_count": 12,
   "id": "0badcbef",
   "metadata": {},
   "outputs": [
    {
     "name": "stdout",
     "output_type": "stream",
     "text": [
      "--------------------------------------------------------------------------------\n",
      "Testing above block\n"
     ]
    }
   ],
   "source": [
    "print(\"-\"*80)\n",
    "print(\"Testing above block\")"
   ]
  },
  {
   "cell_type": "code",
   "execution_count": 39,
   "id": "fd7db794",
   "metadata": {
    "scrolled": true
   },
   "outputs": [
    {
     "name": "stdout",
     "output_type": "stream",
     "text": [
      "Fred\n"
     ]
    }
   ],
   "source": [
    "some_guy = 'Fred'\n",
    "print(some_guy)"
   ]
  },
  {
   "cell_type": "code",
   "execution_count": 40,
   "id": "f7381e46",
   "metadata": {},
   "outputs": [
    {
     "name": "stdout",
     "output_type": "stream",
     "text": [
      "[]\n"
     ]
    }
   ],
   "source": [
    "first_names = []\n",
    "print(first_names)"
   ]
  },
  {
   "cell_type": "code",
   "execution_count": 41,
   "id": "67705583",
   "metadata": {},
   "outputs": [
    {
     "name": "stdout",
     "output_type": "stream",
     "text": [
      "['Fred']\n"
     ]
    }
   ],
   "source": [
    "first_names.append(some_guy)\n",
    "print(first_names)"
   ]
  },
  {
   "cell_type": "code",
   "execution_count": 43,
   "id": "060517c3",
   "metadata": {},
   "outputs": [
    {
     "name": "stdout",
     "output_type": "stream",
     "text": [
      "['Fred']\n"
     ]
    }
   ],
   "source": [
    "another_list_of_names = first_names\n",
    "print(another_list_of_names)"
   ]
  },
  {
   "cell_type": "code",
   "execution_count": 44,
   "id": "8e30a5df",
   "metadata": {
    "scrolled": true
   },
   "outputs": [
    {
     "name": "stdout",
     "output_type": "stream",
     "text": [
      "['Fred']\n"
     ]
    }
   ],
   "source": [
    "print(first_names)"
   ]
  },
  {
   "cell_type": "code",
   "execution_count": 45,
   "id": "2ebe3e78",
   "metadata": {},
   "outputs": [
    {
     "name": "stdout",
     "output_type": "stream",
     "text": [
      "['Fred', 'George']\n"
     ]
    }
   ],
   "source": [
    "another_list_of_names.append('George') #gets bound to the list object []\n",
    "print(another_list_of_names)"
   ]
  },
  {
   "cell_type": "code",
   "execution_count": 46,
   "id": "0189e5dc",
   "metadata": {},
   "outputs": [
    {
     "name": "stdout",
     "output_type": "stream",
     "text": [
      "['Fred', 'George']\n"
     ]
    }
   ],
   "source": [
    "print(first_names) #gets bound to the SAME list object []"
   ]
  },
  {
   "cell_type": "code",
   "execution_count": 47,
   "id": "6c5e2160",
   "metadata": {},
   "outputs": [
    {
     "name": "stdout",
     "output_type": "stream",
     "text": [
      "\n"
     ]
    }
   ],
   "source": [
    "some_guy = 'Bill'\n",
    "print()"
   ]
  },
  {
   "cell_type": "code",
   "execution_count": 11,
   "id": "524a60e9",
   "metadata": {},
   "outputs": [
    {
     "name": "stdout",
     "output_type": "stream",
     "text": [
      "--------------------------------------------------------------------------------\n"
     ]
    }
   ],
   "source": [
    "print(\"-\"*80)"
   ]
  },
  {
   "cell_type": "code",
   "execution_count": 50,
   "id": "62a4b0bd",
   "metadata": {},
   "outputs": [
    {
     "name": "stdout",
     "output_type": "stream",
     "text": [
      "Bill ['Fred', 'George'] ['Fred', 'George']\n"
     ]
    }
   ],
   "source": [
    "# So this will now yield 'Bill', ['Fred, 'George'], ['Fred, 'George']\n",
    "print (some_guy, first_names, another_list_of_names)\n",
    "# Note: in all, there were 3 Names, 1 List Object, and 3 String Objects in eg above"
   ]
  },
  {
   "cell_type": "code",
   "execution_count": 51,
   "id": "f6ff99d5",
   "metadata": {},
   "outputs": [
    {
     "name": "stdout",
     "output_type": "stream",
     "text": [
      "True\n",
      "[1, 2, 10] [1, 2, 10]\n"
     ]
    }
   ],
   "source": [
    "# another thing of note is copying versus binding:\n",
    "# this will simply bind a and b to the same object\n",
    "# you can test this with b is a (which will evaluate to True below)\n",
    "# this also means that changes to b will be reflected in a\n",
    "a = [1, 2, 3]\n",
    "b = a\n",
    "print (b is a)\n",
    "b[2] = 10\n",
    "print (a, b)"
   ]
  },
  {
   "cell_type": "code",
   "execution_count": 52,
   "id": "d88d52a7",
   "metadata": {},
   "outputs": [
    {
     "name": "stdout",
     "output_type": "stream",
     "text": [
      "False\n",
      "[1, 2, 3] [1, 2, 10]\n"
     ]
    }
   ],
   "source": [
    "# this will create a copy of a, so a and c now point to different objects\n",
    "# you can test this with c is a (which will evaluate to False below)\n",
    "# this also means that changes to c will not be reflected in a\n",
    "a = [1, 2, 3]\n",
    "c = []\n",
    "c[:] = a [:]\n",
    "print (c is a)\n",
    "c[2] = 10\n",
    "print (a, c)"
   ]
  }
 ],
 "metadata": {
  "kernelspec": {
   "display_name": "Python 3 (ipykernel)",
   "language": "python",
   "name": "python3"
  },
  "language_info": {
   "codemirror_mode": {
    "name": "ipython",
    "version": 3
   },
   "file_extension": ".py",
   "mimetype": "text/x-python",
   "name": "python",
   "nbconvert_exporter": "python",
   "pygments_lexer": "ipython3",
   "version": "3.9.12"
  }
 },
 "nbformat": 4,
 "nbformat_minor": 5
}
