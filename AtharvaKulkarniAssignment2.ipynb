{
 "cells": [
  {
   "cell_type": "code",
   "execution_count": 13,
   "id": "eb31f8a8",
   "metadata": {},
   "outputs": [],
   "source": [
    "# -*- coding: utf-8 -*-\n",
    "\"\"\"\n",
    "\n",
    "@author: hina\n",
    "\"\"\"\n",
    "\n",
    "# Step 1:\n",
    "# Store the following first names in a list\n",
    "# Amy, Bob, Cathy, Doug, Emily\n",
    "# Remember to use a meaningful variable name\n",
    "# You code here\n",
    "fnames = ['Amy', 'Bob', 'Cathy', 'Doug', 'Emily']"
   ]
  },
  {
   "cell_type": "code",
   "execution_count": 14,
   "id": "4fb22b14",
   "metadata": {},
   "outputs": [],
   "source": [
    "# Step 2:\n",
    "# Store their last names in a list\n",
    "# Douglas, Curry, Butler, Elder, Atkins\n",
    "# Remember to use a meaningful variable name\n",
    "# You code here\n",
    "lnames = ['Douglas', 'Curry', 'Butler', 'Elder', 'Atkins']"
   ]
  },
  {
   "cell_type": "code",
   "execution_count": 15,
   "id": "0fd92760",
   "metadata": {},
   "outputs": [],
   "source": [
    "# Step 3:\n",
    "# Store their ages in a list\n",
    "# 10, 30, 25, 50, 40\n",
    "# Remember to use a meaningful variable name\n",
    "# You code here\n",
    "ages = [10, 30, 25, 50, 40]"
   ]
  },
  {
   "cell_type": "code",
   "execution_count": 16,
   "id": "adca2af4",
   "metadata": {},
   "outputs": [
    {
     "name": "stdout",
     "output_type": "stream",
     "text": [
      "['Douglas', 'McCurry', 'Butler', 'Elder', 'Atkins']\n"
     ]
    }
   ],
   "source": [
    "# Step 4:\n",
    "# As it turns out, Bob has decided to update his last name to McCurry\n",
    "# Update the lastNames list to reflect this change (by indexing into the list),\n",
    "# Then print the lastNames list to ensure the it was updated\n",
    "# You code here\n",
    "lnames[1] = 'McCurry'\n",
    "print (lnames)"
   ]
  },
  {
   "cell_type": "code",
   "execution_count": 17,
   "id": "cfca3d66",
   "metadata": {},
   "outputs": [
    {
     "name": "stdout",
     "output_type": "stream",
     "text": [
      "Amy   D is  10  years old\n",
      "Bob   M is  30  years old\n",
      "Cathy   B is  25  years old\n",
      "Doug   E is  50  years old\n",
      "Emily   A is  40  years old\n"
     ]
    }
   ],
   "source": [
    "# Step 5:\n",
    "# Use the above lists to print out the first name, \n",
    "# followed by the first letter of the last name, \n",
    "# followed by age of the 5 people as follows:\n",
    "#  Person 1: Amy D is 10 years old\n",
    "#  Person 2: Bob M is 30 years old\n",
    "#  Person 3: Cathy B is 25 years old\n",
    "#  Person 4: Doug E is 50 years old\n",
    "#  Person 5: Emily A is 40 years old\n",
    "# You code here\n",
    "for i in range(len(fnames)):\n",
    "\tprint(fnames[i],\" \",lnames[i][0:1], \"is \", ages[i], \" years old\")"
   ]
  }
 ],
 "metadata": {
  "kernelspec": {
   "display_name": "Python 3 (ipykernel)",
   "language": "python",
   "name": "python3"
  },
  "language_info": {
   "codemirror_mode": {
    "name": "ipython",
    "version": 3
   },
   "file_extension": ".py",
   "mimetype": "text/x-python",
   "name": "python",
   "nbconvert_exporter": "python",
   "pygments_lexer": "ipython3",
   "version": "3.8.9"
  }
 },
 "nbformat": 4,
 "nbformat_minor": 5
}
