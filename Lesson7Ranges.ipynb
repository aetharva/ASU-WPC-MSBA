{
 "cells": [
  {
   "cell_type": "code",
   "execution_count": 2,
   "id": "dc02f73d",
   "metadata": {},
   "outputs": [
    {
     "name": "stdout",
     "output_type": "stream",
     "text": [
      "cat 3\n",
      "dog 3\n",
      "cow 3\n",
      "parrot 6\n",
      "hamster 7\n",
      "goat 4\n"
     ]
    }
   ],
   "source": [
    "words = ['cat', 'dog', 'cow', 'parrot', 'hamster', 'goat']\n",
    "for w in words:\n",
    " print (w, len(w))"
   ]
  },
  {
   "cell_type": "code",
   "execution_count": 3,
   "id": "c82cc879",
   "metadata": {},
   "outputs": [
    {
     "name": "stdout",
     "output_type": "stream",
     "text": [
      "0,1,2,3,4,\n"
     ]
    }
   ],
   "source": [
    "# The range function generates arithmetic prgogressions\n",
    "# range(n) -> 0,...,n-1 in increments of 1\n",
    "for i in range(5):\n",
    " print (i, end=',')\n",
    "print ()"
   ]
  },
  {
   "cell_type": "code",
   "execution_count": 4,
   "id": "7c4dc534",
   "metadata": {},
   "outputs": [
    {
     "name": "stdout",
     "output_type": "stream",
     "text": [
      "3,4,5,6,7,8,9,\n"
     ]
    }
   ],
   "source": [
    "# range(m,n) -> m,...,n-1 in increments of 1\n",
    "# if m >= n, returns nothing\n",
    "for i in range(3,10):\n",
    " print (i, end=',')\n",
    "print ()"
   ]
  },
  {
   "cell_type": "code",
   "execution_count": 6,
   "id": "76429925",
   "metadata": {},
   "outputs": [
    {
     "name": "stdout",
     "output_type": "stream",
     "text": [
      "3,5,7,9,\n"
     ]
    }
   ],
   "source": [
    "# counts in positive increments if n > m, and k is positive\n",
    "# range(m,n,k) -> m,...,<=n-1 in increments of k\n",
    "for i in range(3,10,2):\n",
    " print (i, end=',')\n",
    "print ()"
   ]
  },
  {
   "cell_type": "code",
   "execution_count": 7,
   "id": "162deb8a",
   "metadata": {},
   "outputs": [
    {
     "name": "stdout",
     "output_type": "stream",
     "text": [
      "10,5,0,-5,-10,-15,-20,-25,\n"
     ]
    }
   ],
   "source": [
    "# counts in negative increments if n < m, and k is negative\n",
    "# range(m,n,k) -> m,...,>=n+1 in increments of k\n",
    "for i in range(10,-30,-5):\n",
    " print (i, end=',')\n",
    "print ()"
   ]
  },
  {
   "cell_type": "code",
   "execution_count": 8,
   "id": "e1151dd0",
   "metadata": {},
   "outputs": [
    {
     "name": "stdout",
     "output_type": "stream",
     "text": [
      "[[0, 'jane'], [1, 'john'], [2, 'mark'], [3, 'harry'], [4, 'mike'], [5, 'ed']]\n"
     ]
    }
   ],
   "source": [
    "words = ['jane', 'john', 'mark', 'harry', 'mike', 'ed']\n",
    "wordlist = []\n",
    "for i in range(len(words)):\n",
    " wordlist.append([i, words[i]])\n",
    "print (wordlist)"
   ]
  },
  {
   "cell_type": "code",
   "execution_count": 9,
   "id": "2f1c1e8a",
   "metadata": {},
   "outputs": [
    {
     "name": "stdout",
     "output_type": "stream",
     "text": [
      "range(0, 20, 2)\n",
      "[0, 2, 4, 6, 8, 10, 12, 14, 16, 18]\n",
      "False\n",
      "5\n",
      "10\n",
      "range(0, 10, 2)\n",
      "18\n"
     ]
    }
   ],
   "source": [
    "# Note: The object returned by range() behaves as if it is a list,\n",
    "# but in fact it isn’t. It is an object which returns the successive items of\n",
    "# the desired sequence when you iterate over it, but it doesn’t really make\n",
    "# the list, thus saving space.\n",
    "r = range(0, 20, 2)\n",
    "print (r)\n",
    "print (list(r))\n",
    "print (11 in r)\n",
    "print (r.index(10))\n",
    "print (r[5])\n",
    "print (r[:5])\n",
    "print (r[-1])"
   ]
  },
  {
   "cell_type": "code",
   "execution_count": 10,
   "id": "e2c6bc58",
   "metadata": {},
   "outputs": [
    {
     "name": "stdout",
     "output_type": "stream",
     "text": [
      "True\n"
     ]
    }
   ],
   "source": [
    "# Testing range objects for equality with == and != compares them as sequences.\n",
    "# That is, two range objects are considered equal if they represent the same sequence\n",
    "# of values\n",
    "print (range(0) == range(2, 1, 3))"
   ]
  },
  {
   "cell_type": "code",
   "execution_count": 12,
   "id": "cbb683b8",
   "metadata": {},
   "outputs": [
    {
     "ename": "TypeError",
     "evalue": "range expected 1 argument, got 0",
     "output_type": "error",
     "traceback": [
      "\u001b[0;31m---------------------------------------------------------------------------\u001b[0m",
      "\u001b[0;31mTypeError\u001b[0m                                 Traceback (most recent call last)",
      "Input \u001b[0;32mIn [12]\u001b[0m, in \u001b[0;36m<cell line: 3>\u001b[0;34m()\u001b[0m\n\u001b[1;32m      1\u001b[0m \u001b[38;5;66;03m# test\u001b[39;00m\n\u001b[0;32m----> 3\u001b[0m \u001b[38;5;28;01mfor\u001b[39;00m i \u001b[38;5;129;01min\u001b[39;00m \u001b[38;5;28;43mrange\u001b[39;49m\u001b[43m(\u001b[49m\u001b[43m)\u001b[49m:\n\u001b[1;32m      4\u001b[0m  \u001b[38;5;28mprint\u001b[39m (i, end\u001b[38;5;241m=\u001b[39m\u001b[38;5;124m'\u001b[39m\u001b[38;5;124m,\u001b[39m\u001b[38;5;124m'\u001b[39m)\n",
      "\u001b[0;31mTypeError\u001b[0m: range expected 1 argument, got 0"
     ]
    }
   ],
   "source": [
    "# test\n",
    "\n",
    "for i in range():\n",
    " print (i, end=',')"
   ]
  },
  {
   "cell_type": "code",
   "execution_count": 13,
   "id": "9f98fc35",
   "metadata": {},
   "outputs": [
    {
     "name": "stdout",
     "output_type": "stream",
     "text": [
      "0,1,2,3,4,5,6,7,8,9,"
     ]
    }
   ],
   "source": [
    "for i in range(10):\n",
    " print (i, end=',')"
   ]
  },
  {
   "cell_type": "code",
   "execution_count": 14,
   "id": "0d9efc7a",
   "metadata": {},
   "outputs": [],
   "source": [
    "for i in range(0,-10):\n",
    " print (i, end=',')"
   ]
  },
  {
   "cell_type": "code",
   "execution_count": 15,
   "id": "c01ca72b",
   "metadata": {},
   "outputs": [
    {
     "name": "stdout",
     "output_type": "stream",
     "text": [
      "0,-2,-4,-6,-8,"
     ]
    }
   ],
   "source": [
    "for i in range(0,-10,-2):\n",
    " print (i, end=',')"
   ]
  }
 ],
 "metadata": {
  "kernelspec": {
   "display_name": "Python 3 (ipykernel)",
   "language": "python",
   "name": "python3"
  },
  "language_info": {
   "codemirror_mode": {
    "name": "ipython",
    "version": 3
   },
   "file_extension": ".py",
   "mimetype": "text/x-python",
   "name": "python",
   "nbconvert_exporter": "python",
   "pygments_lexer": "ipython3",
   "version": "3.8.9"
  }
 },
 "nbformat": 4,
 "nbformat_minor": 5
}
